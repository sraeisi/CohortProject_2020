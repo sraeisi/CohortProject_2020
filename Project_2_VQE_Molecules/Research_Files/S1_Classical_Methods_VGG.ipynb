{
 "cells": [
  {
   "cell_type": "markdown",
   "metadata": {},
   "source": [
    "# Review of classical electronic structure methods \n",
    "\n",
    "In order to assess the performance of quantum computing algorithms in addressing the electronic structure problem, we will briefly review a few commonly employed classical electronic structure methods of varying level of approximation. \n",
    "\n",
    "## Hartree-Fock\n",
    "\n",
    "The Hartree-Fock (HF) method employs a **mean-field approximation**, where Coulomb correlation of electrons is neglected. The HF wavefunction is hence restricted to the form of a single Slater determinant, for which the optimal form may be acquired by an optimization of the underlying single particle basis (orbitals). Once the optimal HF orbitals have been found, the HF state may be written as \n",
    "\n",
    "$$ | \\text{HF} \\rangle = \\prod_{p \\in \\text{occ}} \\hat a^\\dagger_p | \\text{vac} \\rangle $$\n",
    "\n",
    "where $\\hat a^\\dagger_p$ creates an electron in the $p^{\\rm{th}}$ optimized HF spin orbital, and  $| \\text{vac} \\rangle$ is the vacuum state (all spin-orbitals unoccupied). Due to the restriction to a single Slater determinant, the HF energy may be obtained very efficiently and can be applied to very large molecules, however it becomes qualitatively incorrect when **electronic correlations** become sufficiently strong. The HF wavefunction is often used as a starting point in more accurate treatments of electronic correlation. \n",
    "\n",
    "## Coupled cluster\n",
    "\n",
    "The Coupled cluster (CC) method introduces electronic correlation to the wavefunction ansatz by operating on the HF reference state with the exponential of excitation operators\n",
    "\n",
    "$$|\\text{CC} \\rangle = e^{\\hat T} | \\text{HF}\\rangle, \\quad \\hat T = \\hat T_1 + \\hat T_2 + ...$$\n",
    "\n",
    "where $\\hat T_1 = \\sum_{ia} t^{a}_i \\hat a^\\dagger_a \\hat a_i$ are referred to as 'singles', $\\hat T_2 = \\sum_{ijab} t^{ab}_{ij} \\hat a^\\dagger_a \\hat a^\\dagger_b \\hat a_i \\hat a_j$ as 'doubles', etc. When the excitation rank is truncated to only singles (S) and doubles (D), $\\hat T = \\hat T_1 + \\hat T_2$, the corresponding ansatz is referred to as CCSD. Since the number of possible single and double excitations for a system of $N$ electrons in $M$ orbitals is polynomial in $M$, one can efficiently solve a system of equations to obtain the optimized CCSD amplitudes. CCSD often gives accurate energies and can be applied to modestly sized chemical systems. However, due to its implementation, it can **violate the variational principle** and give energies lower than the ground state.\n",
    "\n",
    "## Full Configuration Interaction\n",
    "The full configuration interaction (FCI) method yields the **exact ground state energy** within a given basis set. The FCI wavefunction is written as a linear combination of all possible $N$-particle Slater determinants over the orbital basis\n",
    "$$|\\text{FCI} \\rangle =  \\left( \\sum_{ia} C^{a}_i \\hat a^\\dagger_a \\hat a_i + \\sum_{ijab} C^{ab}_{ij} \\hat a^\\dagger_a \\hat a^\\dagger_b \\hat a_i \\hat a_j + ...  \\right) | \\text{HF} \\rangle $$\n",
    "where the sum includes up to $N$-electron excitations, and hence there are an exponential number of coefficients to optimize in $| \\text{FCI} \\rangle$. Due to its **exponential complexity**, FCI is often reserved for only the smallest chemical systems. However, it serves as a useful result to compare to when assessing tractable electronic structure methods."
   ]
  },
  {
   "cell_type": "markdown",
   "metadata": {},
   "source": [
    "# Benchmarking for electronic PESs in minimal basis (STO-3G)\n",
    "\n",
    "We will apply HF, CCSD, and FCI to obtaining the PESs for a few molecular dissociation processes in minimal (STO-3G) basis."
   ]
  },
  {
   "cell_type": "code",
   "execution_count": 1,
   "metadata": {},
   "outputs": [],
   "source": [
    "import time\n",
    "import numpy as np\n",
    "import matplotlib.pyplot as plt\n",
    "from utility import get_molecular_data, obtain_PES\n",
    "\n",
    "bond_lengths = np.linspace(0.4,3.4,10)\n",
    "molecules=['h2','h2o','lih','n2','h4','nh3']\n",
    "methods=['hf','cisd','ccsd','fci']\n",
    "basies=['sto-3g','6-31g']\n",
    "\n",
    "molecule='lih'\n",
    "basis ='6-31g'\n",
    "basis = 'sto-3g'\n"
   ]
  },
  {
   "cell_type": "code",
   "execution_count": 2,
   "metadata": {},
   "outputs": [
    {
     "name": "stdout",
     "output_type": "stream",
     "text": [
      "Calculations for  LIH  in basis: STO-3G\n"
     ]
    }
   ],
   "source": [
    "molecule=molecules[np.random.randint(len(molecules))]\n",
    "basis=basies[np.random.randint(len(basies))]\n",
    "\n",
    "molecule='lih'\n",
    "basis = 'sto-3g'\n",
    "\n",
    "print(\"Calculations for \",molecule.upper(),\" in basis:\",basis.upper())"
   ]
  },
  {
   "cell_type": "code",
   "execution_count": 3,
   "metadata": {},
   "outputs": [
    {
     "name": "stdout",
     "output_type": "stream",
     "text": [
      "r=0.4000, E =  -6.61032 Eh\n",
      "r=0.7333, E =  -7.53461 Eh\n",
      "r=1.0667, E =  -7.79688 Eh\n",
      "r=1.4000, E =  -7.86062 Eh\n",
      "r=1.7333, E =  -7.85509 Eh\n",
      "r=2.0667, E =  -7.82366 Eh\n",
      "r=2.4000, E =  -7.78349 Eh\n",
      "r=2.7333, E =  -7.74214 Eh\n",
      "r=3.0667, E =  -7.70361 Eh\n",
      "r=3.4000, E =  -7.67020 Eh\n",
      "CPU times: user 11.7 s, sys: 139 ms, total: 11.9 s\n",
      "Wall time: 12.2 s\n"
     ]
    }
   ],
   "source": [
    "#Run HF\n",
    "%time HF_PES = obtain_PES(molecule, bond_lengths, basis,  method='hf')"
   ]
  },
  {
   "cell_type": "code",
   "execution_count": 4,
   "metadata": {},
   "outputs": [
    {
     "name": "stdout",
     "output_type": "stream",
     "text": [
      "r=0.4000, E =  -6.63979 Eh\n",
      "r=0.7333, E =  -7.55340 Eh\n",
      "r=1.0667, E =  -7.81365 Eh\n",
      "r=1.4000, E =  -7.87844 Eh\n",
      "r=1.7333, E =  -7.87797 Eh\n",
      "r=2.0667, E =  -7.85601 Eh\n",
      "r=2.4000, E =  -7.83059 Eh\n",
      "r=2.7333, E =  -7.80993 Eh\n",
      "r=3.0667, E =  -7.79666 Eh\n",
      "r=3.4000, E =  -7.78938 Eh\n",
      "CPU times: user 6.58 s, sys: 164 ms, total: 6.75 s\n",
      "Wall time: 6.78 s\n"
     ]
    }
   ],
   "source": [
    "#Run CISD\n",
    "%time CISD_PES = obtain_PES(molecule, bond_lengths, basis,  method='cisd')"
   ]
  },
  {
   "cell_type": "code",
   "execution_count": 5,
   "metadata": {},
   "outputs": [
    {
     "name": "stdout",
     "output_type": "stream",
     "text": [
      "r=0.4000, E =  -6.64011 Eh\n",
      "r=0.7333, E =  -7.55341 Eh\n",
      "r=1.0667, E =  -7.81366 Eh\n",
      "r=1.4000, E =  -7.87844 Eh\n",
      "r=1.7333, E =  -7.87797 Eh\n",
      "r=2.0667, E =  -7.85602 Eh\n",
      "r=2.4000, E =  -7.83060 Eh\n",
      "r=2.7333, E =  -7.80995 Eh\n",
      "r=3.0667, E =  -7.79667 Eh\n",
      "r=3.4000, E =  -7.78939 Eh\n",
      "CPU times: user 7.36 s, sys: 1.16 s, total: 8.51 s\n",
      "Wall time: 10.3 s\n"
     ]
    }
   ],
   "source": [
    "#Run CCSD\n",
    "%time CCSD_PES = obtain_PES(molecule, bond_lengths, basis,  method='ccsd')"
   ]
  },
  {
   "cell_type": "code",
   "execution_count": 6,
   "metadata": {},
   "outputs": [
    {
     "name": "stdout",
     "output_type": "stream",
     "text": [
      "r=0.4000, E =  -6.64028 Eh\n",
      "r=0.7333, E =  -7.55342 Eh\n",
      "r=1.0667, E =  -7.81366 Eh\n",
      "r=1.4000, E =  -7.87845 Eh\n",
      "r=1.7333, E =  -7.87799 Eh\n",
      "r=2.0667, E =  -7.85604 Eh\n",
      "r=2.4000, E =  -7.83063 Eh\n",
      "r=2.7333, E =  -7.81000 Eh\n",
      "r=3.0667, E =  -7.79675 Eh\n",
      "r=3.4000, E =  -7.78950 Eh\n",
      "CPU times: user 6.6 s, sys: 132 ms, total: 6.73 s\n",
      "Wall time: 6.77 s\n"
     ]
    }
   ],
   "source": [
    "#Run FCI\n",
    "%time FCI_PES = obtain_PES(molecule, bond_lengths, basis, method='fci')"
   ]
  },
  {
   "cell_type": "code",
   "execution_count": 7,
   "metadata": {},
   "outputs": [
    {
     "data": {
      "text/plain": [
       "<matplotlib.legend.Legend at 0x7ff01b009d68>"
      ]
     },
     "execution_count": 7,
     "metadata": {},
     "output_type": "execute_result"
    },
    {
     "data": {
      "image/png": "[encoded data removed]",
      "text/plain": [
       "<Figure size 432x288 with 1 Axes>"
      ]
     },
     "metadata": {
      "needs_background": "light"
     },
     "output_type": "display_data"
    }
   ],
   "source": [
    "#Plot the PESs\n",
    "\n",
    "title_text=molecule.upper()+' dissociation, basis:'+basis.upper()\n",
    "plt.title(title_text)\n",
    "plt.xlabel('R, Angstrom')\n",
    "plt.ylabel('E, Hartree')\n",
    "\n",
    "plt.plot(bond_lengths, FCI_PES, label='FCI')\n",
    "plt.scatter(bond_lengths, HF_PES, label='HF', color='r')\n",
    "plt.scatter(bond_lengths, CCSD_PES, label='CISD', marker='o',color='orange')\n",
    "plt.scatter(bond_lengths, CCSD_PES, label='CCSD',  marker='x', color='k')\n",
    "plt.legend()"
   ]
  }
 ],
 "metadata": {
  "kernelspec": {
   "display_name": "Python 3",
   "language": "python",
   "name": "python3"
  },
  "language_info": {
   "codemirror_mode": {
    "name": "ipython",
    "version": 3
   },
   "file_extension": ".py",
   "mimetype": "text/x-python",
   "name": "python",
   "nbconvert_exporter": "python",
   "pygments_lexer": "ipython3",
   "version": "3.7.1"
  }
 },
 "nbformat": 4,
 "nbformat_minor": 2
}
