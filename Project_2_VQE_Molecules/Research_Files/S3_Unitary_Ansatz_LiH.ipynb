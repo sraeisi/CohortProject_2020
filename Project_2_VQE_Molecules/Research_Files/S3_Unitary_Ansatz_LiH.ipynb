{
 "cells": [
  {
   "cell_type": "markdown",
   "metadata": {},
   "source": [
    "# Unitary ansatz entering the VQE\n",
    "\n",
    "The final energy output of a VQE calculation will crucially depend on the ansatz/form of the parameterized unitary $\\hat U(\\boldsymbol{\\theta})$ employed in state preparation. Here we review two popular approaches, the unitary coupled cluster and qubit coupled cluster methodologies, and benchmark them for energy calculations of small molecules."
   ]
  },
  {
   "cell_type": "code",
   "execution_count": 1,
   "metadata": {},
   "outputs": [],
   "source": [
    "import numpy as np\n",
    "import tequila as tq\n",
    "from utility import *\n",
    "threshold = 1e-2 #VGG 1e-6 #Cutoff for UCC MP2 amplitudes and QCC ranking gradients\n",
    "tol=threshold"
   ]
  },
  {
   "cell_type": "markdown",
   "metadata": {},
   "source": [
    "## Unitary Coupled Cluster (UCC)\n",
    "\n",
    "The UCC ansatz is obtained by 'unitarizing' the traditional coupled cluster ansatz,\n",
    "$$ e^{\\hat T} \\rightarrow e^{\\hat T - \\hat T^\\dagger} \\equiv \\hat U_{\\text{UCC}}$$\n",
    "\n",
    "\n",
    "Due to non-commutativity of terms in $\\hat T - \\hat T^\\dagger$, the UCC ansatz does not have a straightforward decomposition in terms of circuit primitives implementable on the quantum computer. Therefore, to obtain a form which can be compiled, we employ the Trotter approximation. The accuracy of the circuit ansatz relative to the exact UCC operator will be dependent on how many Trotter steps are employed. The number of Trotter steps is commonly set to its minimal value of one to avoid excessive circuit depth."
   ]
  },
  {
   "cell_type": "code",
   "execution_count": 2,
   "metadata": {},
   "outputs": [],
   "source": [
    "trotter_steps = 1"
   ]
  },
  {
   "cell_type": "code",
   "execution_count": 3,
   "metadata": {},
   "outputs": [],
   "source": [
    "molecule='lih'\n",
    "basis = 'sto-3g'\n",
    "R=1.5"
   ]
  },
  {
   "cell_type": "markdown",
   "metadata": {},
   "source": [
    "### LiH in STO-3G basis\n",
    "\n",
    "Below is a sample VQE simulation using the UCCSD ansatz compiled using a single trotter step for H$_2$ in minimal basis at $R=1.5$ (Angstrom). For comparison, we can run CISD to obtain the true ground state energy.\n"
   ]
  },
  {
   "cell_type": "code",
   "execution_count": 4,
   "metadata": {},
   "outputs": [
    {
     "name": "stdout",
     "output_type": "stream",
     "text": [
      "Number of spin-orbitals (qubits): 12 \n",
      "\n",
      "CISD energy: -7.882433089189864\n"
     ]
    }
   ],
   "source": [
    "xyz_data = get_molecular_data(molecule, geometry=R, xyz_format=True)\n",
    "basis='sto-3g'\n",
    "\n",
    "hm = tq.quantumchemistry.Molecule(geometry=xyz_data, basis_set=basis)\n",
    "\n",
    "print('Number of spin-orbitals (qubits): {} \\n'.format(2*hm.n_orbitals))\n",
    "\n",
    "e_0 = hm.compute_energy(method='cisd')\n",
    "\n",
    "print('CISD energy: {}'.format(e_0))"
   ]
  },
  {
   "cell_type": "markdown",
   "metadata": {},
   "source": [
    "The UCCSD VQE optimization is of the form\n",
    "$$E = \\min_{\\boldsymbol{\\theta}} \\langle \\text{HF} | \\hat U_{\\text{UCC}}^\\dagger(\\boldsymbol{\\theta}) \\hat H  \\hat U_{\\text{UCC}} (\\boldsymbol{\\theta}) | \\text{HF} \\rangle $$\n",
    "To expedite the optimization process, we can set the initial guess of the amplitudes to zero, i.e. the optimization will begin at the Hartree Fock state. This heuristic is best suited for when Hartree Fock is believed to be in qualitative agreement with the true ground state. To further alleviate quantum resources, we can estimate the amplitudes using classical electronic structure methods (here, MP2 perturbation theory), and only include the unitaries with non-zero estimated amplitudes."
   ]
  },
  {
   "cell_type": "code",
   "execution_count": 5,
   "metadata": {
    "scrolled": true
   },
   "outputs": [
    {
     "name": "stdout",
     "output_type": "stream",
     "text": [
      "\n",
      "Hamiltonian has 631 terms\n",
      "\n",
      "\n",
      "Number of UCCSD amplitudes: 6 \n",
      "\n",
      "\n",
      "Starting optimization:\n",
      "\n",
      "Optimizer: <class 'tequila.optimizers.optimizer_scipy.OptimizerSciPy'> \n",
      "backend         : qulacs\n",
      "samples         : None\n",
      "save_history    : True\n",
      "noise           : None\n",
      "\n",
      "Method          : BFGS\n",
      "Objective       : 1 expectationvalues\n",
      "gradient        : 192 expectationvalues\n",
      "\n",
      "active variables : 6\n",
      "\n",
      "E=-7.86335762  angles= {(2, 1, 5, 1): 0.0, (2, 1, 2, 1): 0.0, (5, 1, 5, 1): 0.0, (3, 1, 3, 1): 0.0, (5, 1, 2, 1): 0.0, (4, 1, 4, 1): 0.0}  samples= None\n",
      "E=-7.85955830  angles= {(2, 1, 5, 1): -0.06699275970458984, (2, 1, 2, 1): -0.024281024932861328, (5, 1, 5, 1): -0.24590444564819336, (3, 1, 3, 1): -0.0479731559753418, (5, 1, 2, 1): -0.06699275970458984, (4, 1, 4, 1): -0.0479731559753418}  samples= None\n",
      "E=-7.88120928  angles= {(2, 1, 5, 1): -0.03184077673332027, (2, 1, 2, 1): -0.011540451492856645, (5, 1, 5, 1): -0.11687514570441819, (3, 1, 3, 1): -0.022801009472355773, (5, 1, 2, 1): -0.03184077673332027, (4, 1, 4, 1): -0.022801009472355773}  samples= None\n",
      "E=-7.88158414  angles= {(2, 1, 5, 1): -0.05663315578779866, (2, 1, 2, 1): -0.023050172200917998, (5, 1, 5, 1): -0.1052995642213917, (3, 1, 3, 1): -0.03224774266013225, (5, 1, 2, 1): -0.05663315578779865, (4, 1, 4, 1): -0.032257763069159034}  samples= None\n",
      "E=-7.88175406  angles= {(2, 1, 5, 1): -0.047712717719078895, (2, 1, 2, 1): -0.025829625281730644, (5, 1, 5, 1): -0.10940831946762553, (3, 1, 3, 1): -0.027880474348446115, (5, 1, 2, 1): -0.04771271771907889, (4, 1, 4, 1): -0.027894183161342612}  samples= None\n",
      "Optimization terminated successfully.\n",
      "         Current function value: -7.881754\n",
      "         Iterations: 3\n",
      "         Function evaluations: 5\n",
      "         Gradient evaluations: 5\n",
      "\n",
      "Obtained UCCSD energy: -7.881754058711865\n"
     ]
    }
   ],
   "source": [
    "H = hm.make_hamiltonian()\n",
    "\n",
    "print(\"\\nHamiltonian has {} terms\\n\".format(len(H)))\n",
    "\n",
    "U_UCCSD = hm.make_uccsd_ansatz(initial_amplitudes='MP2',threshold=threshold, trotter_steps=trotter_steps)\n",
    "\n",
    "E = tq.ExpectationValue(H=H, U=U_UCCSD)\n",
    "\n",
    "print('\\nNumber of UCCSD amplitudes: {} \\n'.format(len(E.extract_variables())))\n",
    "\n",
    "print('\\nStarting optimization:\\n')\n",
    "\n",
    "result = tq.minimize(objective=E, method=\"BFGS\", \n",
    "                     initial_values={k:0.0 for k in E.extract_variables()}, tol=tol) #VGG 1e-6\n",
    "\n",
    "print('\\nObtained UCCSD energy: {}'.format(result.energy))"
   ]
  },
  {
   "cell_type": "markdown",
   "metadata": {},
   "source": [
    "We see that the converged UCCSD energy is in exact agreement with the CISD energy, as expected for a $4$-electron system. \n"
   ]
  },
  {
   "cell_type": "markdown",
   "metadata": {},
   "source": [
    "## Qubit Coupled Cluster (QCC)\n",
    "\n",
    "In contrast to UCC, the QCC methodology makes no direct reference to fermionic algebra and seeks to construct an efficient ansatz directly in qubit-space by finding multi-qubit Pauli strings (entanglers) which lower energy. This is done through an energy-lowering heuristic employing the energy gradient with respect to a Pauli strings variational amplitude. As opposed to UCCSD, the circuit depth and number of parameter is chosen to meet hardware limitations, i.e. one must choose how many exponentiated Pauli strings will be entering the QCC ansatz.\n",
    "\n",
    "### LiH in STO-3G basis\n",
    "\n",
    "Below we perform the entangler screening protocol for H2 in minimal basis, and obtain one grouping of entanglers with non-zero energy gradient. We then select one of them to be used in the QCC VQE simulation."
   ]
  },
  {
   "cell_type": "code",
   "execution_count": 6,
   "metadata": {},
   "outputs": [
    {
     "name": "stdout",
     "output_type": "stream",
     "text": [
      "\n",
      "Hamiltonian has 631 terms\n",
      "\n",
      "Grouping gradient magnitudes (Grouping : Gradient magnitude):\n",
      "1 : 0.123\n",
      "2 : 0.0335\n",
      "3 : 0.0335\n",
      "4 : 0.024\n",
      "5 : 0.024\n",
      "6 : 0.0215\n",
      "7 : 0.0121\n",
      "\n",
      "Selected entanglers:\n",
      "1.0 [X2 Y3 X10 X11]\n"
     ]
    }
   ],
   "source": [
    "basis='sto-3g'\n",
    "\n",
    "xyz_data = get_molecular_data(molecule, geometry=R, xyz_format=True)\n",
    "\n",
    "h2 = tq.quantumchemistry.Molecule(geometry=xyz_data, basis_set=basis)\n",
    "\n",
    "hf_reference = hf_occ(2*h2.n_orbitals, h2.n_electrons)\n",
    "\n",
    "H = h2.make_hamiltonian()\n",
    "\n",
    "print(\"\\nHamiltonian has {} terms\\n\".format(len(H)))\n",
    "\n",
    "#Define number of entanglers to enter ansatz\n",
    "n_ents = 1\n",
    "\n",
    "#Rank entanglers using energy gradient criterion\n",
    "ranked_entangler_groupings = generate_QCC_gradient_groupings(H.to_openfermion(), \n",
    "                                                             2*h2.n_orbitals, \n",
    "                                                             hf_reference, \n",
    "                                                             cutoff=threshold)\n",
    "\n",
    "print('Grouping gradient magnitudes (Grouping : Gradient magnitude):')\n",
    "for i in range(len(ranked_entangler_groupings)):\n",
    "    print('{} : {}'.format(i+1,ranked_entangler_groupings[i][1]))\n",
    "\n",
    "\n",
    "entanglers = get_QCC_entanglers(ranked_entangler_groupings, n_ents, 2*h2.n_orbitals)\n",
    "\n",
    "print('\\nSelected entanglers:')\n",
    "for ent in entanglers:\n",
    "    print(ent)\n",
    "\n"
   ]
  },
  {
   "cell_type": "markdown",
   "metadata": {},
   "source": [
    "Once the QCC ranking procedure has been ran, we can simulate the QCC VQE optimization with the generated entanglers. The VQE optimization for the QCC ansatz is of the form\n",
    "$$E = \\min_{\\boldsymbol{\\Omega}, \\boldsymbol{\\tau}} \\langle \\boldsymbol{\\Omega} | U_{\\text{ENT}}^\\dagger (\\boldsymbol{\\tau}) \\hat H  U_{\\text{ENT}} (\\boldsymbol{\\tau}) | \\boldsymbol{\\Omega} \\rangle $$\n",
    "where $\\boldsymbol{\\Omega}$ denote collective Euler angles parameterizing single-qubit rotations, and $\\boldsymbol{\\tau}$ are entangler amplitudes. "
   ]
  },
  {
   "cell_type": "code",
   "execution_count": 7,
   "metadata": {},
   "outputs": [
    {
     "name": "stdout",
     "output_type": "stream",
     "text": [
      "Optimizer: <class 'tequila.optimizers.optimizer_scipy.OptimizerSciPy'> \n",
      "backend         : qulacs\n",
      "samples         : None\n",
      "save_history    : True\n",
      "noise           : None\n",
      "\n",
      "Method          : BFGS\n",
      "Objective       : 1 expectationvalues\n",
      "gradient        : 50 expectationvalues\n",
      "\n",
      "active variables : 25\n",
      "\n",
      "E=-6.25839976  angles= {beta_0: 3.141592653589793, gamma_0: 0.0, beta_1: 3.141592653589793, gamma_1: 0.0, beta_2: 3.141592653589793, gamma_2: 0.0, beta_3: 3.141592653589793, gamma_3: 0.0, beta_4: 0.0, gamma_4: 0.0, beta_5: 0.0, gamma_5: 0.0, beta_6: 0.0, gamma_6: 0.0, beta_7: 0.0, gamma_7: 0.0, beta_8: 0.0, gamma_8: 0.0, beta_9: 0.0, gamma_9: 0.0, beta_10: 3.141592653589793, gamma_10: 0.0, beta_11: 3.141592653589793, gamma_11: 0.0, tau_0: 0.0}  samples= None\n",
      "Optimization terminated successfully.\n",
      "         Current function value: -6.258400\n",
      "         Iterations: 0\n",
      "         Function evaluations: 1\n",
      "         Gradient evaluations: 1\n",
      "\n",
      "Obtained QCC energy (1 entanglers): -6.258399755644748\n"
     ]
    }
   ],
   "source": [
    "#Mean-field part of U (Omega):    \n",
    "U_MF = construct_QMF_ansatz(n_qubits = 2*h2.n_orbitals)\n",
    "#Entangling part of U:\n",
    "U_ENT = construct_QCC_ansatz(entanglers)\n",
    "\n",
    "U_QCC = U_MF + U_ENT\n",
    "\n",
    "E = tq.ExpectationValue(H=H, U=U_QCC)\n",
    "\n",
    "initial_vals = init_qcc_params(hf_reference, E.extract_variables())\n",
    "\n",
    "#Minimize wrt the entangler amplitude and MF angles:\n",
    "result = tq.minimize(objective=E, method=\"BFGS\", initial_values=initial_vals, tol=tol)\n",
    "\n",
    "print('\\nObtained QCC energy ({} entanglers): {}'.format(len(entanglers), result.energy))"
   ]
  },
  {
   "cell_type": "markdown",
   "metadata": {},
   "source": [
    "## 6-31G basis Qubit Coupled Cluster (QCC)\n",
    "\n",
    "### LiH in 6-31G basis\n",
    "\n",
    "Now let us try a larger problem of H$_2$O in 6-31G basis. However, we will restrict the active space. The unrestricted problem leads to a $14$-qubit Hamiltonian, and $34$ UCCSD amplitudes to optimize even after neglecting the zero MP2 amplitudes. Therefore, we will remove some orbital degrees of freedom which are less important in accurately describing the electronic structure. By freezing all orbitals other than $0b_1$, $1b_1$, $2a_1$, and $3a_1$, we reduce the problem to an $8$-qubit Hamiltonian with $8$ UCCSD variational amplitudes."
   ]
  },
  {
   "cell_type": "code",
   "execution_count": 8,
   "metadata": {},
   "outputs": [
    {
     "name": "stdout",
     "output_type": "stream",
     "text": [
      "Number of spin-orbitals (qubits): 22 \n",
      "\n",
      "CISD energy: -7.995374283465799\n"
     ]
    }
   ],
   "source": [
    "xyz_data = get_molecular_data(molecule, geometry=R, xyz_format=True)\n",
    "\n",
    "basis = '6-31g'\n",
    "#active = {'B1':[0,1], 'A1':[2,3]}\n",
    "hm = tq.quantumchemistry.Molecule(geometry=xyz_data, basis_set = basis)#, active_orbitals = active)\n",
    "\n",
    "print('Number of spin-orbitals (qubits): {} \\n'.format(2*hm.n_orbitals))\n",
    "\n",
    "e0 = hm.compute_energy(method='cisd')\n",
    "\n",
    "print('CISD energy: {}'.format(e0))"
   ]
  },
  {
   "cell_type": "markdown",
   "metadata": {},
   "source": [
    "We will then run the UCCSD VQE simulation (***warning: tq.minimize will take several minutes - 1 hour + to converge for a VQE instance of this size.*** Smaller active spaces can be employed to lower VQE simulation runtimes)."
   ]
  },
  {
   "cell_type": "code",
   "execution_count": null,
   "metadata": {},
   "outputs": [
    {
     "name": "stdout",
     "output_type": "stream",
     "text": [
      "\n",
      "Hamiltonian has 6870 terms\n",
      "\n",
      "\n",
      "Number of UCCSD amplitudes: 22 \n",
      "\n",
      "\n",
      "Starting optimization:\n",
      "\n",
      "Optimizer: <class 'tequila.optimizers.optimizer_scipy.OptimizerSciPy'> \n",
      "backend         : qulacs\n",
      "samples         : None\n",
      "save_history    : True\n",
      "noise           : None\n",
      "\n",
      "Method          : BFGS\n",
      "Objective       : 1 expectationvalues\n",
      "gradient        : 704 expectationvalues\n",
      "\n",
      "active variables : 22\n",
      "\n",
      "E=-7.97685913  angles= {(5, 1, 2, 1): 0.0, (3, 1, 7, 1): 0.0, (4, 1, 8, 1): 0.0, (9, 1, 10, 1): 0.0, (10, 1, 9, 1): 0.0, (2, 1, 2, 1): 0.0, (3, 1, 3, 1): 0.0, (5, 1, 9, 1): 0.0, (9, 1, 2, 1): 0.0, (8, 1, 8, 1): 0.0, (4, 1, 4, 1): 0.0, (10, 1, 5, 1): 0.0, (8, 1, 4, 1): 0.0, (9, 1, 9, 1): 0.0, (2, 1, 5, 1): 0.0, (5, 1, 5, 1): 0.0, (5, 1, 10, 1): 0.0, (7, 1, 3, 1): 0.0, (9, 1, 5, 1): 0.0, (10, 1, 10, 1): 0.0, (2, 1, 9, 1): 0.0, (7, 1, 7, 1): 0.0}  samples= None\n"
     ]
    }
   ],
   "source": [
    "H = hm.make_hamiltonian()\n",
    "\n",
    "print(\"\\nHamiltonian has {} terms\\n\".format(len(H)))\n",
    "\n",
    "U_UCCSD = hm.make_uccsd_ansatz(initial_amplitudes='MP2',threshold=threshold, trotter_steps=trotter_steps)\n",
    "\n",
    "E = tq.ExpectationValue(H=H, U=U_UCCSD)\n",
    "\n",
    "print('\\nNumber of UCCSD amplitudes: {} \\n'.format(len(E.extract_variables())))\n",
    "\n",
    "print('\\nStarting optimization:\\n')\n",
    "\n",
    "result = tq.minimize(objective=E, method=\"BFGS\", \n",
    "                     initial_values={k:0.0 for k in E.extract_variables()}, tol=tol) #VGG tol was 1e-4 \n",
    "\n",
    "print('\\nObtained UCCSD energy: {}'.format(result.energy))"
   ]
  },
  {
   "cell_type": "markdown",
   "metadata": {},
   "source": [
    "We obtain a UCCSD energy within chemical accuracy (< 1.6 miliHartree from FCI energy) for the H$_2$O molecule near equilibrium geometry. As the bond distance approaches the dissociation limit, the energy deviation from FCI is typically expected to increase as electronic correlations increase during covalent bond-breaking. Furthermore, as HF becomes energetically more distant from the FCI wavefunction, the initial guess of all amplitudes being zero may lead to a local minimum. One can then instead initialize the amplitudes using random guesses, and repeat for $n$ samples to attempt to find the global minimum. To facilitate this, one can run the commented lines below. This will execute $n$ instances of tq.minimize for uniformly random initial parameters in interval $[0, 2\\pi]$ and return the lowest optimization result."
   ]
  },
  {
   "cell_type": "code",
   "execution_count": null,
   "metadata": {},
   "outputs": [],
   "source": [
    "#n=10\n",
    "#result = minimize_E_random_guesses(objective=E, method='BFGS', tol=1e-4, n=n)"
   ]
  },
  {
   "cell_type": "markdown",
   "metadata": {},
   "source": [
    "We see that the QCC energy converged to the FCI energy with only a single entangler! \n",
    "\n",
    "### LiH in 6-31G basis\n",
    "\n",
    "Let us move on to the problem of H$_2$O in 6-31G basis using the same active space as the UCCSD example."
   ]
  },
  {
   "cell_type": "code",
   "execution_count": null,
   "metadata": {},
   "outputs": [],
   "source": [
    "basis = '6-31g'\n",
    "\n",
    "xyz_data = get_molecular_data(molecule, geometry=R, xyz_format=True)\n",
    "\n",
    "#active = {'B1':[0,1], 'A1':[2,3]}\n",
    "hm = tq.quantumchemistry.Molecule(geometry=xyz_data, basis_set = basis )#, active_orbitals = active)\n",
    "hf_reference = hf_occ(2*hm.n_orbitals, hm.n_electrons)\n",
    "\n",
    "\n",
    "H = hm.make_hamiltonian()\n",
    "\n",
    "print(\"\\nHamiltonian has {} terms\\n\".format(len(H)))\n",
    "\n",
    "#Define number of entanglers to enter ansatz\n",
    "n_ents = 6\n",
    "\n",
    "#Rank entanglers using energy gradient criterion\n",
    "ranked_entangler_groupings = generate_QCC_gradient_groupings(H.to_openfermion(), \n",
    "                                                             2*hm.n_orbitals, \n",
    "                                                             hf_reference, \n",
    "                                                             cutoff=threshold)\n",
    "\n",
    "print('Grouping gradient magnitudes (Grouping : Gradient magnitude):')\n",
    "for i in range(len(ranked_entangler_groupings)):\n",
    "    print('{} : {}'.format(i+1,ranked_entangler_groupings[i][1]))\n",
    "\n",
    "entanglers = get_QCC_entanglers(ranked_entangler_groupings, n_ents, 2*hm.n_orbitals)\n",
    "\n",
    "print('\\nSelected entanglers:')\n",
    "for ent in entanglers:\n",
    "    print(ent)"
   ]
  },
  {
   "cell_type": "markdown",
   "metadata": {},
   "source": [
    "With the 6 chosen entanglers, we can then run the QCC VQE simulation."
   ]
  },
  {
   "cell_type": "code",
   "execution_count": null,
   "metadata": {},
   "outputs": [],
   "source": [
    "#Mean-field part of U (Omega):    \n",
    "U_MF = construct_QMF_ansatz(n_qubits = 2*hm.n_orbitals)\n",
    "#Entangling part of U:\n",
    "U_ENT = construct_QCC_ansatz(entanglers)\n",
    "\n",
    "U_QCC = U_MF + U_ENT\n",
    "\n",
    "E = tq.ExpectationValue(H=H, U=U_QCC)\n",
    "\n",
    "initial_vals = init_qcc_params(hf_reference, E.extract_variables())\n",
    "\n",
    "#Minimize wrt the entangler amplitude and MF angles:\n",
    "result = tq.minimize(objective=E, method=\"BFGS\", initial_values=initial_vals, tol=tol)\n",
    "\n",
    "\n",
    "print('\\nObtained QCC energy ({} entanglers): {}'.format(len(entanglers), result.energy))"
   ]
  },
  {
   "cell_type": "markdown",
   "metadata": {},
   "source": [
    "We obtain chemical accuracy for water near equilibrium geometry with only 6 entanglers. The obtained energy is not as accurate as that of UCCSD for this problem, however the QCC optimization may be performed at a fraction of the UCCSD circuit depth. One can also increase the number of entanglers entering the QCC ansatz to increase accuracy. As a final check, one can always run $n$ VQE trials with random initial guesses to test if the optimization fell into a local minimum. ***(Warning: Completing n=10 trials may take a few minutes for this VQE instance).***"
   ]
  },
  {
   "cell_type": "code",
   "execution_count": null,
   "metadata": {},
   "outputs": [],
   "source": [
    "n = 5 #VGG10\n",
    "result = minimize_E_random_guesses(objective=E, method='BFGS', tol=tol, n=n) #VGG tol=1e-2\n",
    "\n",
    "print('\\nObtained QCC energy ({} entanglers): {:6.3f}'.format(len(entanglers), result))"
   ]
  },
  {
   "cell_type": "code",
   "execution_count": null,
   "metadata": {},
   "outputs": [],
   "source": [
    "print('\\nObtained QCC energy ({} entanglers): {:6.3f}'.format(len(entanglers), result))"
   ]
  },
  {
   "cell_type": "code",
   "execution_count": null,
   "metadata": {},
   "outputs": [],
   "source": []
  }
 ],
 "metadata": {
  "kernelspec": {
   "display_name": "Python 3",
   "language": "python",
   "name": "python3"
  },
  "language_info": {
   "codemirror_mode": {
    "name": "ipython",
    "version": 3
   },
   "file_extension": ".py",
   "mimetype": "text/x-python",
   "name": "python",
   "nbconvert_exporter": "python",
   "pygments_lexer": "ipython3",
   "version": "3.7.1"
  }
 },
 "nbformat": 4,
 "nbformat_minor": 2
}
