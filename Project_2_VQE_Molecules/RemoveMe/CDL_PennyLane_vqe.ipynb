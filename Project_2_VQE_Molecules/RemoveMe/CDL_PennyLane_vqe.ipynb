{
  "nbformat": 4,
  "nbformat_minor": 0,
  "metadata": {
    "kernelspec": {
      "display_name": "python-sf-pl",
      "language": "python",
      "name": "python-sf-pl"
    },
    "language_info": {
      "codemirror_mode": {
        "name": "ipython",
        "version": 3
      },
      "file_extension": ".py",
      "mimetype": "text/x-python",
      "name": "python",
      "nbconvert_exporter": "python",
      "pygments_lexer": "ipython3",
      "version": "3.6.10"
    },
    "colab": {
      "name": "CDL_tutorial_vqe.ipynb",
      "provenance": [],
      "collapsed_sections": []
    }
  },
  "cells": [
    {
      "cell_type": "code",
      "metadata": {
        "id": "WTnasLJpy5Of",
        "colab_type": "code",
        "colab": {}
      },
      "source": [
        "!pip install pennylane-qchem"
      ],
      "execution_count": null,
      "outputs": []
    },
    {
      "cell_type": "code",
      "metadata": {
        "id": "zuFC4f_Eykhr",
        "colab_type": "code",
        "colab": {}
      },
      "source": [
        "!pip install pennylane"
      ],
      "execution_count": null,
      "outputs": []
    },
    {
      "cell_type": "code",
      "metadata": {
        "id": "3b7imHZWazAD",
        "colab_type": "code",
        "colab": {}
      },
      "source": [
        "!pip install pennylane-qiskit"
      ],
      "execution_count": null,
      "outputs": []
    },
    {
      "cell_type": "code",
      "metadata": {
        "id": "l-1XM2vzcTEC",
        "colab_type": "code",
        "colab": {}
      },
      "source": [
        "#https://pennylaneqiskit.readthedocs.io/en/latest/index.html\n",
        "from qiskit import IBMQ\n",
        "\n",
        "#IBMQ.save_account(MY_API_TOKEN)"
      ],
      "execution_count": 1,
      "outputs": []
    },
    {
      "cell_type": "code",
      "metadata": {
        "id": "W-g2BMTiyfzy",
        "colab_type": "code",
        "colab": {}
      },
      "source": [
        "#may have to restart the runtime after pip instalations\n",
        "import pennylane as qml #https://pennylane.ai/qml/demonstrations.html\n",
        "from pennylane import numpy as np"
      ],
      "execution_count": 2,
      "outputs": []
    },
    {
      "cell_type": "code",
      "metadata": {
        "id": "ksfKeYSeyfz6",
        "colab_type": "code",
        "colab": {}
      },
      "source": [
        "name = 'h2'\n",
        "charge = 0\n",
        "multiplicity = 1\n",
        "basis_set = 'sto-3g'\n",
        "geometry = 'h2.xyz' #may haveto upload the file by hand"
      ],
      "execution_count": 3,
      "outputs": []
    },
    {
      "cell_type": "code",
      "metadata": {
        "id": "FS08ggMvyf0N",
        "colab_type": "code",
        "colab": {
          "base_uri": "https://localhost:8080/",
          "height": 289
        },
        "outputId": "e26a1633-0269-41fd-e5c5-56778fb2d57e"
      },
      "source": [
        "h, nr_qubits = qml.qchem.generate_hamiltonian(\n",
        "    name,\n",
        "    geometry,\n",
        "    charge,\n",
        "    multiplicity,\n",
        "    basis_set,\n",
        "    n_active_electrons=2,\n",
        "    n_active_orbitals=2,\n",
        "    mapping='jordan_wigner'\n",
        ")\n",
        "\n",
        "print('Number of qubits = ', nr_qubits)\n",
        "print('Hamiltonian is ', h)"
      ],
      "execution_count": 4,
      "outputs": [
        {
          "output_type": "stream",
          "text": [
            "Number of qubits =  4\n",
            "Hamiltonian is  (-0.04207897647782276) [I0]\n",
            "+ (0.17771287465139946) [Z0]\n",
            "+ (0.1777128746513994) [Z1]\n",
            "+ (-0.24274280513140462) [Z2]\n",
            "+ (-0.24274280513140462) [Z3]\n",
            "+ (0.17059738328801052) [Z0 Z1]\n",
            "+ (0.04475014401535161) [Y0 X1 X2 Y3]\n",
            "+ (-0.04475014401535161) [Y0 Y1 X2 X3]\n",
            "+ (-0.04475014401535161) [X0 X1 Y2 Y3]\n",
            "+ (0.04475014401535161) [X0 Y1 Y2 X3]\n",
            "+ (0.12293305056183798) [Z0 Z2]\n",
            "+ (0.1676831945771896) [Z0 Z3]\n",
            "+ (0.1676831945771896) [Z1 Z2]\n",
            "+ (0.12293305056183798) [Z1 Z3]\n",
            "+ (0.17627640804319591) [Z2 Z3]\n"
          ],
          "name": "stdout"
        }
      ]
    },
    {
      "cell_type": "markdown",
      "metadata": {
        "id": "CvH0f19Vyf0R",
        "colab_type": "text"
      },
      "source": [
        "That's it! From here on, we can use PennyLane as usual, employing its entire stack of\n",
        "algorithms and optimizers.\n",
        "\n",
        "Implementing the VQE algorithm\n",
        "------------------------------\n",
        "\n",
        "PennyLane contains the `VQECost` class, specifically\n",
        "built to implement the VQE algorithm. We begin by defining the device, in this case a simple\n",
        "qubit simulator:\n",
        "\n"
      ]
    },
    {
      "cell_type": "code",
      "metadata": {
        "id": "-4UyiIXq6zi_",
        "colab_type": "code",
        "colab": {
          "base_uri": "https://localhost:8080/",
          "height": 173
        },
        "outputId": "50687292-38e6-4522-8e15-52d180f92654"
      },
      "source": [
        "import pkg_resources\n",
        "{entry.name: entry for entry in pkg_resources.iter_entry_points(\"pennylane.plugins\")}"
      ],
      "execution_count": 5,
      "outputs": [
        {
          "output_type": "execute_result",
          "data": {
            "text/plain": [
              "{'default.gaussian': EntryPoint.parse('default.gaussian = pennylane.plugins:DefaultGaussian'),\n",
              " 'default.qubit': EntryPoint.parse('default.qubit = pennylane.plugins:DefaultQubit'),\n",
              " 'default.qubit.tf': EntryPoint.parse('default.qubit.tf = pennylane.plugins.default_qubit_tf:DefaultQubitTF'),\n",
              " 'default.tensor': EntryPoint.parse('default.tensor = pennylane.beta.plugins.default_tensor:DefaultTensor'),\n",
              " 'default.tensor.tf': EntryPoint.parse('default.tensor.tf = pennylane.beta.plugins.default_tensor_tf:DefaultTensorTF'),\n",
              " 'qiskit.aer': EntryPoint.parse('qiskit.aer = pennylane_qiskit:AerDevice'),\n",
              " 'qiskit.basicaer': EntryPoint.parse('qiskit.basicaer = pennylane_qiskit:BasicAerDevice'),\n",
              " 'qiskit.ibmq': EntryPoint.parse('qiskit.ibmq = pennylane_qiskit:IBMQDevice')}"
            ]
          },
          "metadata": {
            "tags": []
          },
          "execution_count": 5
        }
      ]
    },
    {
      "cell_type": "code",
      "metadata": {
        "id": "gGbFf3Md2got",
        "colab_type": "code",
        "colab": {
          "base_uri": "https://localhost:8080/",
          "height": 34
        },
        "outputId": "45c4cfed-78ab-4145-a707-da0a9edc4635"
      },
      "source": [
        "#https://pennylane.readthedocs.io/en/stable/introduction/configuration.html\n",
        "print(qml.default_config.path)"
      ],
      "execution_count": 6,
      "outputs": [
        {
          "output_type": "stream",
          "text": [
            "config.toml\n"
          ],
          "name": "stdout"
        }
      ]
    },
    {
      "cell_type": "code",
      "metadata": {
        "id": "41nW0nrNyf0V",
        "colab_type": "code",
        "colab": {}
      },
      "source": [
        "def circuit(params, wires):\n",
        "    qml.BasisState(np.array([1, 1, 0, 0]), wires=wires)\n",
        "    for i in wires:\n",
        "        qml.Rot(*params[i], wires=i)\n",
        "    qml.CNOT(wires=[2, 3])\n",
        "    qml.CNOT(wires=[2, 0])\n",
        "    qml.CNOT(wires=[3, 1])"
      ],
      "execution_count": 7,
      "outputs": []
    },
    {
      "cell_type": "code",
      "metadata": {
        "id": "0yOKY2qjfZ8I",
        "colab_type": "code",
        "colab": {}
      },
      "source": [
        "dev = qml.device('default.qubit', wires=nr_qubits)"
      ],
      "execution_count": 8,
      "outputs": []
    },
    {
      "cell_type": "code",
      "metadata": {
        "id": "QhpQY0kjyf0Y",
        "colab_type": "code",
        "colab": {}
      },
      "source": [
        "cost_fn = qml.VQECost(circuit, h, dev)"
      ],
      "execution_count": 9,
      "outputs": []
    },
    {
      "cell_type": "code",
      "metadata": {
        "id": "QF9J7ri4yf0b",
        "colab_type": "code",
        "colab": {
          "base_uri": "https://localhost:8080/",
          "height": 85
        },
        "outputId": "63fd2562-be57-4cf4-fabf-fa20c5713b46"
      },
      "source": [
        "opt = qml.GradientDescentOptimizer(stepsize=0.4)\n",
        "np.random.seed(0)\n",
        "params = np.random.normal(0, np.pi, (nr_qubits, 3))\n",
        "\n",
        "print(params)"
      ],
      "execution_count": 10,
      "outputs": [
        {
          "output_type": "stream",
          "text": [
            "[[ 5.54193389  1.25713095  3.07479606]\n",
            " [ 7.03997361  5.86710646 -3.07020901]\n",
            " [ 2.98479079 -0.47550269 -0.32427159]\n",
            " [ 1.28993324  0.45252622  4.56873497]]\n"
          ],
          "name": "stdout"
        }
      ]
    },
    {
      "cell_type": "code",
      "metadata": {
        "id": "KwCIi0hJyf0e",
        "colab_type": "code",
        "colab": {
          "base_uri": "https://localhost:8080/",
          "height": 204
        },
        "outputId": "fe0d660d-e129-4402-a298-3e05a5b27852"
      },
      "source": [
        "max_iterations = 200\n",
        "conv_tol = 1e-06\n",
        "\n",
        "prev_energy = cost_fn(params)\n",
        "for n in range(max_iterations):\n",
        "    params = opt.step(cost_fn, params)\n",
        "    energy = cost_fn(params)\n",
        "    conv = np.abs(energy - prev_energy)\n",
        "\n",
        "    if n % 20 == 0:\n",
        "        print('Iteration: {:},\\tGround-state energy = {:.8f} Ha.\\t(conv/tol: {:.0f})'.format(n, energy, conv/(conv_tol)))\n",
        "\n",
        "    if conv <= conv_tol:\n",
        "        break\n",
        "\n",
        "    prev_energy = energy\n",
        "\n",
        "print()\n",
        "print('Final convergence parameter = {:.8f} Ha'.format(conv))\n",
        "print('Final ground-state energy = {:.8f} Ha'.format(energy))\n",
        "print('Accuracy with respect to FCI: {:.8f} Ha ({:.8f} kcal/mol)'.\n",
        "        format(np.abs(energy - (-1.136189454088)), np.abs(energy - (-1.136189454088))*627.503))\n"
      ],
      "execution_count": 13,
      "outputs": [
        {
          "output_type": "stream",
          "text": [
            "Iteration: 0,\tGround-state energy = -0.88179557 Ha.\t(conv/tol: 74326)\n",
            "Iteration: 20,\tGround-state energy = -1.13380513 Ha.\t(conv/tol: 437)\n",
            "Iteration: 40,\tGround-state energy = -1.13558756 Ha.\t(conv/tol: 19)\n",
            "Iteration: 60,\tGround-state energy = -1.13585794 Ha.\t(conv/tol: 10)\n",
            "Iteration: 80,\tGround-state energy = -1.13600617 Ha.\t(conv/tol: 6)\n",
            "Iteration: 100,\tGround-state energy = -1.13608848 Ha.\t(conv/tol: 3)\n",
            "Iteration: 120,\tGround-state energy = -1.13613394 Ha.\t(conv/tol: 2)\n",
            "\n",
            "Final convergence parameter = 0.00000099 Ha\n",
            "Final ground-state energy = -1.13615709 Ha\n",
            "Accuracy with respect to FCI: 0.00003237 Ha (0.02031093 kcal/mol)\n"
          ],
          "name": "stdout"
        }
      ]
    },
    {
      "cell_type": "code",
      "metadata": {
        "id": "cGFJPHoB_isQ",
        "colab_type": "code",
        "colab": {
          "base_uri": "https://localhost:8080/",
          "height": 170
        },
        "outputId": "b4f43cf9-458b-459e-b275-d4ce76677534"
      },
      "source": [
        "dev = qml.device('qiskit.ibmq', wires=2, backend='ibmq_essex',shots=100)\n",
        "\n",
        "# Create a PennyLane quantum node run on the device\n",
        "@qml.qnode(dev)\n",
        "def test_circuit(x, y, z):\n",
        "    qml.RZ(z, wires=[0])\n",
        "    qml.RY(y, wires=[0])\n",
        "    qml.RX(x, wires=[0])\n",
        "    qml.CNOT(wires=[0, 1])\n",
        "    return qml.expval(qml.PauliZ(wires=1))\n",
        "\n",
        "# Result of noisy simulator\n",
        "%time print(test_circuit(0.2, 0.1, 0.3),dev)\n"
      ],
      "execution_count": 16,
      "outputs": [
        {
          "output_type": "stream",
          "text": [
            "0.82 Qiskit PennyLane plugin\n",
            "Short name: qiskit.ibmq\n",
            "Package: pennylane_qiskit\n",
            "Plugin version: 0.9.0\n",
            "Author: Xanadu\n",
            "Wires: 2\n",
            "Shots: 100\n",
            "CPU times: user 46.7 ms, sys: 980 µs, total: 47.7 ms\n",
            "Wall time: 23.7 s\n"
          ],
          "name": "stdout"
        }
      ]
    },
    {
      "cell_type": "code",
      "metadata": {
        "id": "oSloK1-6yf0R",
        "colab_type": "code",
        "colab": {
          "base_uri": "https://localhost:8080/",
          "height": 343
        },
        "outputId": "1e3ec385-c76c-48d9-aaee-5f27e0d269ba"
      },
      "source": [
        "#get the energy using ibmq devise if avilable\n",
        "\n",
        "PennyLane=[]\n",
        "IBM=[]\n",
        "PnyLn_or_IBM=[]\n",
        "\n",
        "for i in range(10):\n",
        "  params = np.random.normal(0, np.pi, (nr_qubits, 3))\n",
        "\n",
        "  dev = qml.device('default.qubit', wires=nr_qubits)\n",
        "  cost_fn = qml.VQECost(circuit, h, dev)\n",
        "  energy = cost_fn(params)\n",
        "\n",
        "  if energy < 0:\n",
        "\n",
        "    PennyLane.append(energy)\n",
        "    print(\"E=\",energy,\" computed with \",dev)\n",
        "    print()\n",
        "\n",
        "    #try:\n",
        "    dev = qml.device('qiskit.ibmq', wires=nr_qubits, backend='ibmq_essex',shots=100)\n",
        "    print(dev.capabilities()['backend'])\n",
        "\n",
        "    cost_fn = qml.VQECost(circuit, h, dev)\n",
        "    %time energy = cost_fn(params)\n",
        "    IBM.append(energy)\n",
        "\n",
        "    print(\"E=\",energy,\" computed with \",dev)\n",
        "    print()\n",
        "\n",
        "    #except:\n",
        "    dev = qml.device('default.qubit', wires=nr_qubits)\n",
        "    #cost_fn = qml.VQECost(circuit, h, dev)\n",
        "    energy = cost_fn(params)\n",
        "    PnyLn_or_IBM.append(energy)\n",
        "\n",
        "    print(\"E=\",energy,\" computed with \",dev)\n"
      ],
      "execution_count": null,
      "outputs": [
        {
          "output_type": "stream",
          "text": [
            "E= -0.6151743106511907  computed with  Default qubit PennyLane plugin\n",
            "Short name: default.qubit\n",
            "Package: pennylane\n",
            "Plugin version: 0.10.0\n",
            "Author: Xanadu Inc.\n",
            "Wires: 4\n",
            "Shots: 1000\n",
            "\n",
            "['ibmq_qasm_simulator', 'ibmqx2', 'ibmq_16_melbourne', 'ibmq_vigo', 'ibmq_ourense', 'ibmq_london', 'ibmq_burlington', 'ibmq_essex', 'ibmq_armonk']\n"
          ],
          "name": "stdout"
        },
        {
          "output_type": "stream",
          "text": [
            "WARNING:websockets.protocol:Unexpected exception in keepalive ping task\n",
            "Traceback (most recent call last):\n",
            "  File \"/usr/local/lib/python3.6/dist-packages/websockets/protocol.py\", line 984, in keepalive_ping\n",
            "    ping_waiter = yield from self.ping()\n",
            "  File \"/usr/local/lib/python3.6/dist-packages/websockets/protocol.py\", line 583, in ping\n",
            "    yield from self.ensure_open()\n",
            "  File \"/usr/local/lib/python3.6/dist-packages/websockets/protocol.py\", line 658, in ensure_open\n",
            "    ) from self.transfer_data_exc\n",
            "websockets.exceptions.ConnectionClosed: WebSocket connection is closed: code = 4002 (private use), no reason\n"
          ],
          "name": "stderr"
        }
      ]
    },
    {
      "cell_type": "markdown",
      "metadata": {
        "id": "59kl8s0Dyf0h",
        "colab_type": "text"
      },
      "source": [
        "Success! 🎉🎉🎉 The ground-state energy of the hydrogen molecule has been estimated with chemical\n",
        "accuracy (< 1 kcal/mol) with respect to the exact value of -1.136189454088 Hartree (Ha) obtained\n",
        "from a full configuration-interaction (FCI) calculation. This is because, for the optimized\n",
        "values of the single-qubit rotation angles, the state prepared by the VQE ansatz is precisely\n",
        "the FCI ground-state of the $H_2$ molecule $|H_2\\rangle_{gs} = 0.99 |1100\\rangle - 0.10\n",
        "|0011\\rangle$.\n",
        "\n",
        "What other molecules would you like to study using PennyLane?"
      ]
    },
    {
      "cell_type": "code",
      "metadata": {
        "id": "YeHh1VwDyf0i",
        "colab_type": "code",
        "colab": {
          "base_uri": "https://localhost:8080/",
          "height": 312
        },
        "outputId": "78462a86-7271-4d06-ab1c-6752ae8e2b8d"
      },
      "source": [
        "PennyLane=PennyLane[0:6,7:]\n",
        "\n",
        "#Plot the PESs\n",
        "import matplotlib.pyplot as plt\n",
        "\n",
        "title_text=\"Random tests of q-devices\"\n",
        "plt.title(title_text)\n",
        "plt.xlabel('test [au]]')\n",
        "plt.ylabel('energy [au]')\n",
        "\n",
        "plt.scatter(range(len(PennyLane)), PennyLane, label='PennyLane',marker='x', color='r')\n",
        "plt.scatter(range(len(IBM)), IBM, label='IBM', marker='.',color='g')\n",
        "plt.scatter(range(len(PnyLn_or_IBM)), PnyLn_or_IBM, label='IBM_again', marker='.',color='b')\n",
        "plt.legend()\n"
      ],
      "execution_count": 20,
      "outputs": [
        {
          "output_type": "execute_result",
          "data": {
            "text/plain": [
              "<matplotlib.legend.Legend at 0x7fb5174ba208>"
            ]
          },
          "metadata": {
            "tags": []
          },
          "execution_count": 20
        },
        {
          "output_type": "display_data",
          "data": {
            "image/png": "[encoded data removed]",
            "text/plain": [
              "<Figure size 432x288 with 1 Axes>"
            ]
          },
          "metadata": {
            "tags": [],
            "needs_background": "light"
          }
        }
      ]
    }
  ]
}
