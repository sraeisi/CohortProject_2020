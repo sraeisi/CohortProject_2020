{
 "cells": [
  {
   "cell_type": "markdown",
   "metadata": {},
   "source": [
    "# Unitary ansatz entering the VQE\n",
    "\n",
    "The final energy output of a VQE calculation will crucially depend on the ansatz/form of the parameterized unitary $\\hat U(\\boldsymbol{\\theta})$ employed in state preparation. Here we review two popular approaches, the unitary coupled cluster and qubit coupled cluster methodologies, and benchmark them for energy calculations of small molecules."
   ]
  },
  {
   "cell_type": "code",
   "execution_count": 1,
   "metadata": {},
   "outputs": [],
   "source": [
    "import numpy as np\n",
    "import tequila as tq\n",
    "from utility import *\n",
    "threshold = 1e-6 #VGG 1e-6 #Cutoff for UCC MP2 amplitudes and QCC ranking gradients\n",
    "tol=threshold"
   ]
  },
  {
   "cell_type": "markdown",
   "metadata": {},
   "source": [
    "## Unitary Coupled Cluster (UCC)\n",
    "\n",
    "The UCC ansatz is obtained by 'unitarizing' the traditional coupled cluster ansatz,\n",
    "$$ e^{\\hat T} \\rightarrow e^{\\hat T - \\hat T^\\dagger} \\equiv \\hat U_{\\text{UCC}}$$\n",
    "\n",
    "\n",
    "Due to non-commutativity of terms in $\\hat T - \\hat T^\\dagger$, the UCC ansatz does not have a straightforward decomposition in terms of circuit primitives implementable on the quantum computer. Therefore, to obtain a form which can be compiled, we employ the Trotter approximation. The accuracy of the circuit ansatz relative to the exact UCC operator will be dependent on how many Trotter steps are employed. The number of Trotter steps is commonly set to its minimal value of one to avoid excessive circuit depth."
   ]
  },
  {
   "cell_type": "code",
   "execution_count": 2,
   "metadata": {},
   "outputs": [],
   "source": [
    "trotter_steps = 1"
   ]
  },
  {
   "cell_type": "code",
   "execution_count": 3,
   "metadata": {},
   "outputs": [],
   "source": [
    "molecule='h2'\n",
    "basis = 'sto-3g' #note that the two basis sets give different results '6-31g'\n",
    "R=1.5"
   ]
  },
  {
   "cell_type": "markdown",
   "metadata": {},
   "source": [
    "### LiH in STO-3G basis\n",
    "\n",
    "Below is a sample VQE simulation using the UCCSD ansatz compiled using a single trotter step for H$_2$ in minimal basis at $R=1.5$ (Angstrom). For comparison, we can run CISD to obtain the true ground state energy.\n"
   ]
  },
  {
   "cell_type": "code",
   "execution_count": 4,
   "metadata": {},
   "outputs": [
    {
     "name": "stdout",
     "output_type": "stream",
     "text": [
      "Number of spin-orbitals (qubits): 4 \n",
      "\n",
      "r=1.5000, E =  -0.99815 Eh\n",
      "CISD energy: [-0.99814935]\n"
     ]
    }
   ],
   "source": [
    "xyz_data = get_molecular_data(molecule, geometry=R, xyz_format=True)\n",
    "basis='sto-3g'\n",
    "\n",
    "hm = tq.quantumchemistry.Molecule(geometry=xyz_data, basis_set=basis)\n",
    "\n",
    "print('Number of spin-orbitals (qubits): {} \\n'.format(2*hm.n_orbitals))\n",
    "\n",
    "e_0=obtain_PES(molecule, [R], basis,  method='cisd')\n",
    "#e_0 = hm.compute_energy(method='fci')\n",
    "\n",
    "print('CISD energy: {}'.format(e_0))"
   ]
  },
  {
   "cell_type": "markdown",
   "metadata": {},
   "source": [
    "The UCCSD VQE optimization is of the form\n",
    "$$E = \\min_{\\boldsymbol{\\theta}} \\langle \\text{HF} | \\hat U_{\\text{UCC}}^\\dagger(\\boldsymbol{\\theta}) \\hat H  \\hat U_{\\text{UCC}} (\\boldsymbol{\\theta}) | \\text{HF} \\rangle $$\n",
    "To expedite the optimization process, we can set the initial guess of the amplitudes to zero, i.e. the optimization will begin at the Hartree Fock state. This heuristic is best suited for when Hartree Fock is believed to be in qualitative agreement with the true ground state. To further alleviate quantum resources, we can estimate the amplitudes using classical electronic structure methods (here, MP2 perturbation theory), and only include the unitaries with non-zero estimated amplitudes."
   ]
  },
  {
   "cell_type": "code",
   "execution_count": 5,
   "metadata": {
    "scrolled": true
   },
   "outputs": [
    {
     "name": "stdout",
     "output_type": "stream",
     "text": [
      "\n",
      "Hamiltonian has 15 terms\n",
      "\n",
      "\n",
      "Number of UCCSD amplitudes: 1 \n",
      "\n",
      "\n",
      "Starting optimization:\n",
      "\n",
      "Optimizer: <class 'tequila.optimizers.optimizer_scipy.OptimizerSciPy'> \n",
      "backend         : qulacs\n",
      "samples         : None\n",
      "save_history    : True\n",
      "noise           : None\n",
      "\n",
      "Method          : BFGS\n",
      "Objective       : 1 expectationvalues\n",
      "gradient        : 32 expectationvalues\n",
      "\n",
      "active variables : 1\n",
      "\n",
      "E=-0.91087355  angles= {(1, 0, 1, 0): 0.0}  samples= None\n",
      "E=-0.99183704  angles= {(1, 0, 1, 0): -0.4590719938278198}  samples= None\n",
      "E=-0.99812034  angles= {(1, 0, 1, 0): -0.3568651078344078}  samples= None\n",
      "E=-0.99814935  angles= {(1, 0, 1, 0): -0.36338257018119763}  samples= None\n",
      "E=-0.99814935  angles= {(1, 0, 1, 0): -0.36334547591627564}  samples= None\n",
      "Optimization terminated successfully.\n",
      "         Current function value: -0.998149\n",
      "         Iterations: 4\n",
      "         Function evaluations: 5\n",
      "         Gradient evaluations: 5\n",
      "\n",
      "Obtained UCCSD energy: -0.9981493533579171\n"
     ]
    }
   ],
   "source": [
    "H = hm.make_hamiltonian()\n",
    "\n",
    "print(\"\\nHamiltonian has {} terms\\n\".format(len(H)))\n",
    "\n",
    "U_UCCSD = hm.make_uccsd_ansatz(initial_amplitudes='MP2',threshold=threshold, trotter_steps=trotter_steps)\n",
    "\n",
    "E = tq.ExpectationValue(H=H, U=U_UCCSD)\n",
    "\n",
    "print('\\nNumber of UCCSD amplitudes: {} \\n'.format(len(E.extract_variables())))\n",
    "\n",
    "print('\\nStarting optimization:\\n')\n",
    "\n",
    "result = tq.minimize(objective=E, method=\"BFGS\", \n",
    "                     initial_values={k:0.0 for k in E.extract_variables()}, tol=tol) #VGG 1e-6\n",
    "\n",
    "print('\\nObtained UCCSD energy: {}'.format(result.energy))"
   ]
  },
  {
   "cell_type": "markdown",
   "metadata": {},
   "source": [
    "We see that the converged UCCSD energy is in exact agreement with the CISD energy, as expected for a $4$-electron system. \n"
   ]
  },
  {
   "cell_type": "markdown",
   "metadata": {},
   "source": [
    "## Qubit Coupled Cluster (QCC)\n",
    "\n",
    "In contrast to UCC, the QCC methodology makes no direct reference to fermionic algebra and seeks to construct an efficient ansatz directly in qubit-space by finding multi-qubit Pauli strings (entanglers) which lower energy. This is done through an energy-lowering heuristic employing the energy gradient with respect to a Pauli strings variational amplitude. As opposed to UCCSD, the circuit depth and number of parameter is chosen to meet hardware limitations, i.e. one must choose how many exponentiated Pauli strings will be entering the QCC ansatz.\n",
    "\n",
    "### LiH in STO-3G basis\n",
    "\n",
    "Below we perform the entangler screening protocol for H2 in minimal basis, and obtain one grouping of entanglers with non-zero energy gradient. We then select one of them to be used in the QCC VQE simulation."
   ]
  },
  {
   "cell_type": "code",
   "execution_count": 6,
   "metadata": {},
   "outputs": [
    {
     "name": "stdout",
     "output_type": "stream",
     "text": [
      "\n",
      "Hamiltonian has 15 terms\n",
      "\n",
      "Grouping gradient magnitudes (Grouping : Gradient magnitude):\n",
      "1 : 0.2295\n",
      "\n",
      "Selected entanglers:\n",
      "1.0 [X0 Y1 X2 X3]\n"
     ]
    }
   ],
   "source": [
    "basis='sto-3g'\n",
    "\n",
    "xyz_data = get_molecular_data(molecule, geometry=R, xyz_format=True)\n",
    "\n",
    "h2 = tq.quantumchemistry.Molecule(geometry=xyz_data, basis_set=basis)\n",
    "\n",
    "hf_reference = hf_occ(2*h2.n_orbitals, h2.n_electrons)\n",
    "\n",
    "H = h2.make_hamiltonian()\n",
    "\n",
    "print(\"\\nHamiltonian has {} terms\\n\".format(len(H)))\n",
    "\n",
    "#Define number of entanglers to enter ansatz\n",
    "n_ents = 1\n",
    "\n",
    "#Rank entanglers using energy gradient criterion\n",
    "ranked_entangler_groupings = generate_QCC_gradient_groupings(H.to_openfermion(), \n",
    "                                                             2*h2.n_orbitals, \n",
    "                                                             hf_reference, \n",
    "                                                             cutoff=threshold)\n",
    "\n",
    "print('Grouping gradient magnitudes (Grouping : Gradient magnitude):')\n",
    "for i in range(len(ranked_entangler_groupings)):\n",
    "    print('{} : {}'.format(i+1,ranked_entangler_groupings[i][1]))\n",
    "\n",
    "\n",
    "entanglers = get_QCC_entanglers(ranked_entangler_groupings, n_ents, 2*h2.n_orbitals)\n",
    "\n",
    "print('\\nSelected entanglers:')\n",
    "for ent in entanglers:\n",
    "    print(ent)\n",
    "\n"
   ]
  },
  {
   "cell_type": "markdown",
   "metadata": {},
   "source": [
    "Once the QCC ranking procedure has been ran, we can simulate the QCC VQE optimization with the generated entanglers. The VQE optimization for the QCC ansatz is of the form\n",
    "$$E = \\min_{\\boldsymbol{\\Omega}, \\boldsymbol{\\tau}} \\langle \\boldsymbol{\\Omega} | U_{\\text{ENT}}^\\dagger (\\boldsymbol{\\tau}) \\hat H  U_{\\text{ENT}} (\\boldsymbol{\\tau}) | \\boldsymbol{\\Omega} \\rangle $$\n",
    "where $\\boldsymbol{\\Omega}$ denote collective Euler angles parameterizing single-qubit rotations, and $\\boldsymbol{\\tau}$ are entangler amplitudes. "
   ]
  },
  {
   "cell_type": "code",
   "execution_count": 7,
   "metadata": {},
   "outputs": [
    {
     "name": "stdout",
     "output_type": "stream",
     "text": [
      "Optimizer: <class 'tequila.optimizers.optimizer_scipy.OptimizerSciPy'> \n",
      "backend         : qulacs\n",
      "samples         : None\n",
      "save_history    : True\n",
      "noise           : None\n",
      "\n",
      "Method          : BFGS\n",
      "Objective       : 1 expectationvalues\n",
      "gradient        : 18 expectationvalues\n",
      "\n",
      "active variables : 9\n",
      "\n",
      "E=-0.91087355  angles= {beta_0: 3.141592653589793, gamma_0: 0.0, beta_1: 3.141592653589793, gamma_1: 0.0, beta_2: 0.0, gamma_2: 0.0, beta_3: 0.0, gamma_3: 0.0, tau_0: 0.0}  samples= None\n",
      "E=-0.95632675  angles= {beta_0: 3.141592653589793, gamma_0: 0.0, beta_1: 3.141592653589793, gamma_1: 0.0, beta_2: 0.0, gamma_2: 0.0, beta_3: 0.0, gamma_3: 0.0, tau_0: 0.22953593730926514}  samples= None\n",
      "E=-0.99752590  angles= {beta_0: 3.141592653589793, gamma_0: 0.0, beta_1: 3.141592653589793, gamma_1: 0.0, beta_2: 0.0, gamma_2: 0.0, beta_3: 0.0, gamma_3: 0.0, tau_0: 0.7867768549250734}  samples= None\n",
      "E=-0.99814849  angles= {beta_0: 3.141592653589793, gamma_0: 0.0, beta_1: 3.141592653589793, gamma_1: 0.0, beta_2: 0.0, gamma_2: 0.0, beta_3: 0.0, gamma_3: 0.0, tau_0: 0.7244610261728082}  samples= None\n",
      "E=-0.99814935  angles= {beta_0: 3.141592624854583, gamma_0: 0.0, beta_1: 3.141592624854583, gamma_1: 0.0, beta_2: 0.0, gamma_2: 0.0, beta_3: 0.0, gamma_3: 0.0, tau_0: 0.7266923282808233}  samples= None\n",
      "Optimization terminated successfully.\n",
      "         Current function value: -0.998149\n",
      "         Iterations: 4\n",
      "         Function evaluations: 5\n",
      "         Gradient evaluations: 5\n",
      "\n",
      "Obtained QCC energy (1 entanglers): -0.9981493533576147\n"
     ]
    }
   ],
   "source": [
    "#Mean-field part of U (Omega):    \n",
    "U_MF = construct_QMF_ansatz(n_qubits = 2*h2.n_orbitals)\n",
    "#Entangling part of U:\n",
    "U_ENT = construct_QCC_ansatz(entanglers)\n",
    "\n",
    "U_QCC = U_MF + U_ENT\n",
    "\n",
    "E = tq.ExpectationValue(H=H, U=U_QCC)\n",
    "\n",
    "initial_vals = init_qcc_params(hf_reference, E.extract_variables())\n",
    "\n",
    "#Minimize wrt the entangler amplitude and MF angles:\n",
    "result = tq.minimize(objective=E, method=\"BFGS\", initial_values=initial_vals, tol=tol)\n",
    "\n",
    "print('\\nObtained QCC energy ({} entanglers): {}'.format(len(entanglers), result.energy))"
   ]
  },
  {
   "cell_type": "markdown",
   "metadata": {},
   "source": [
    "## 6-31G basis U&Q Coupled Cluster (UCC and QCC)\n",
    "\n",
    "### H2 in 6-31G basis\n",
    "\n",
    "Now let us look at H$_2$ in 6-31G basis."
   ]
  },
  {
   "cell_type": "code",
   "execution_count": 8,
   "metadata": {},
   "outputs": [
    {
     "name": "stdout",
     "output_type": "stream",
     "text": [
      "Number of spin-orbitals (qubits): 8 \n",
      "\n",
      "r=1.5000, E =  -1.05435 Eh\n",
      "CISD energy: [-1.05434744]\n"
     ]
    }
   ],
   "source": [
    "xyz_data = get_molecular_data(molecule, geometry=R, xyz_format=True)\n",
    "\n",
    "basis = '6-31g'\n",
    "#active = {'B1':[0,1], 'A1':[2,3]}\n",
    "hm = tq.quantumchemistry.Molecule(geometry=xyz_data, basis_set = basis)#, active_orbitals = active)\n",
    "\n",
    "print('Number of spin-orbitals (qubits): {} \\n'.format(2*hm.n_orbitals))\n",
    "\n",
    "e0 = hm.compute_energy(method='cisd')\n",
    "e0=obtain_PES(molecule, [R], basis,  method='cisd')\n",
    "\n",
    "print('CISD energy: {}'.format(e0))"
   ]
  },
  {
   "cell_type": "markdown",
   "metadata": {},
   "source": [
    "We will then run the UCCSD VQE simulation (***warning: tq.minimize will take several minutes - 1 hour + to converge for a VQE instance of this size.*** Smaller active spaces can be employed to lower VQE simulation runtimes)."
   ]
  },
  {
   "cell_type": "code",
   "execution_count": 9,
   "metadata": {},
   "outputs": [
    {
     "name": "stdout",
     "output_type": "stream",
     "text": [
      "\n",
      "Hamiltonian has 185 terms\n",
      "\n",
      "\n",
      "Number of UCCSD amplitudes: 5 \n",
      "\n",
      "\n",
      "Starting optimization:\n",
      "\n",
      "Optimizer: <class 'tequila.optimizers.optimizer_scipy.OptimizerSciPy'> \n",
      "backend         : qulacs\n",
      "samples         : None\n",
      "save_history    : True\n",
      "noise           : None\n",
      "\n",
      "Method          : BFGS\n",
      "Objective       : 1 expectationvalues\n",
      "gradient        : 160 expectationvalues\n",
      "\n",
      "active variables : 5\n",
      "\n",
      "E=-0.99749729  angles= {(3, 0, 3, 0): 0.0, (1, 0, 1, 0): 0.0, (1, 0, 2, 0): 0.0, (2, 0, 1, 0): 0.0, (2, 0, 2, 0): 0.0}  samples= None\n",
      "E=-0.95353947  angles= {(3, 0, 3, 0): -0.15152612328529358, (1, 0, 1, 0): -0.2824723720550537, (1, 0, 2, 0): -0.14328742027282715, (2, 0, 1, 0): -0.14328742027282715, (2, 0, 2, 0): -0.15687349438667297}  samples= None\n",
      "E=-1.02974740  angles= {(3, 0, 3, 0): -0.05710881872073284, (1, 0, 1, 0): -0.1064612697767945, (1, 0, 2, 0): -0.05400372643280412, (2, 0, 1, 0): -0.05400372643280412, (2, 0, 2, 0): -0.05912419428924909}  samples= None\n",
      "E=-1.04345299  angles= {(3, 0, 3, 0): 0.01919696214040298, (1, 0, 1, 0): -0.35857166883991154, (1, 0, 2, 0): -0.1061498730139975, (2, 0, 1, 0): -0.10614984880493347, (2, 0, 2, 0): -0.003454462307558831}  samples= None\n",
      "E=-1.04889103  angles= {(3, 0, 3, 0): -0.02780102671066123, (1, 0, 1, 0): -0.33669585819621184, (1, 0, 2, 0): -0.03579163263989624, (2, 0, 1, 0): -0.03579126759258096, (2, 0, 2, 0): -0.02317529490782367}  samples= None\n",
      "E=-1.05194277  angles= {(3, 0, 3, 0): -0.019529231916949004, (1, 0, 1, 0): -0.26661414795716665, (1, 0, 2, 0): -0.06468585212446842, (2, 0, 1, 0): -0.06468537880580477, (2, 0, 2, 0): -0.02427636529481264}  samples= None\n",
      "E=-1.05228860  angles= {(3, 0, 3, 0): -0.01392120670613703, (1, 0, 1, 0): -0.29528357855649945, (1, 0, 2, 0): -0.06384441910104982, (2, 0, 1, 0): -0.06384381147987532, (2, 0, 2, 0): -0.02443475109209023}  samples= None\n",
      "E=-1.05223611  angles= {(3, 0, 3, 0): -0.020559029560669736, (1, 0, 1, 0): -0.2955802600407751, (1, 0, 2, 0): -0.0634443320888614, (2, 0, 1, 0): -0.06344369900266986, (2, 0, 2, 0): -0.017652496873490253}  samples= None\n",
      "E=-1.05230815  angles= {(3, 0, 3, 0): -0.016194794001058402, (1, 0, 1, 0): -0.2953851979079148, (1, 0, 2, 0): -0.06370738128493011, (2, 0, 1, 0): -0.06370676494147717, (2, 0, 2, 0): -0.022111693161762057}  samples= None\n",
      "E=-1.05231416  angles= {(3, 0, 3, 0): -0.017032156388177726, (1, 0, 1, 0): -0.29163134426051085, (1, 0, 2, 0): -0.06282056075703155, (2, 0, 1, 0): -0.06281991462132676, (2, 0, 2, 0): -0.022903463445993016}  samples= None\n",
      "E=-1.05231468  angles= {(3, 0, 3, 0): -0.016829473209365592, (1, 0, 1, 0): -0.2923172664289221, (1, 0, 2, 0): -0.06310273472161713, (2, 0, 1, 0): -0.06310208815576158, (2, 0, 2, 0): -0.022716425922164885}  samples= None\n",
      "E=-1.05231468  angles= {(3, 0, 3, 0): -0.016832176707678975, (1, 0, 1, 0): -0.29233013612632747, (1, 0, 2, 0): -0.06309387526551552, (2, 0, 1, 0): -0.06309319915166932, (2, 0, 2, 0): -0.02271904829503742}  samples= None\n",
      "E=-1.05231468  angles= {(3, 0, 3, 0): -0.016832091806855142, (1, 0, 1, 0): -0.2923287006779493, (1, 0, 2, 0): -0.0630944785330686, (2, 0, 1, 0): -0.06309378865280313, (2, 0, 2, 0): -0.022718945367764216}  samples= None\n",
      "Optimization terminated successfully.\n",
      "         Current function value: -1.052315\n",
      "         Iterations: 10\n",
      "         Function evaluations: 13\n",
      "         Gradient evaluations: 13\n",
      "\n",
      "Obtained UCCSD energy: -1.0523146790596258\n"
     ]
    }
   ],
   "source": [
    "H = hm.make_hamiltonian()\n",
    "\n",
    "print(\"\\nHamiltonian has {} terms\\n\".format(len(H)))\n",
    "\n",
    "U_UCCSD = hm.make_uccsd_ansatz(initial_amplitudes='MP2',threshold=threshold, trotter_steps=trotter_steps)\n",
    "\n",
    "E = tq.ExpectationValue(H=H, U=U_UCCSD)\n",
    "\n",
    "print('\\nNumber of UCCSD amplitudes: {} \\n'.format(len(E.extract_variables())))\n",
    "\n",
    "print('\\nStarting optimization:\\n')\n",
    "\n",
    "result = tq.minimize(objective=E, method=\"BFGS\", \n",
    "                     initial_values={k:0.0 for k in E.extract_variables()}, tol=tol) #VGG tol was 1e-4 \n",
    "\n",
    "print('\\nObtained UCCSD energy: {}'.format(result.energy))"
   ]
  },
  {
   "cell_type": "markdown",
   "metadata": {},
   "source": [
    "We obtain a UCCSD energy within chemical accuracy (< 1.6 miliHartree from FCI energy) for the H$_2$ molecule near equilibrium geometry. As the bond distance approaches the dissociation limit, the energy deviation from FCI is typically expected to increase as electronic correlations increase during covalent bond-breaking. Furthermore, as HF becomes energetically more distant from the FCI wavefunction, the initial guess of all amplitudes being zero may lead to a local minimum. One can then instead initialize the amplitudes using random guesses, and repeat for $n$ samples to attempt to find the global minimum. To facilitate this, one can run the commented lines below. This will execute $n$ instances of tq.minimize for uniformly random initial parameters in interval $[0, 2\\pi]$ and return the lowest optimization result."
   ]
  },
  {
   "cell_type": "code",
   "execution_count": 10,
   "metadata": {},
   "outputs": [],
   "source": [
    "if abs(result.energy-e0)>tol*10000:\n",
    "    n=5\n",
    "    result = minimize_E_random_guesses(objective=E, method='BFGS', tol=tol, n=n)\n",
    "    print('\\nObtained UCCSD energy ({} entanglers): {:6.3f}'.format(len(entanglers), result))"
   ]
  },
  {
   "cell_type": "markdown",
   "metadata": {},
   "source": [
    "We see that the QCC energy converged to the FCI energy with only a single entangler! \n",
    "\n",
    "### LiH in 6-31G basis for UCC\n",
    "\n",
    "Let us move on to the problem of H$_2$ in 6-31G basis using the same active space as the UCCSD example."
   ]
  },
  {
   "cell_type": "code",
   "execution_count": 11,
   "metadata": {},
   "outputs": [
    {
     "name": "stdout",
     "output_type": "stream",
     "text": [
      "\n",
      "Hamiltonian has 185 terms\n",
      "\n",
      "Grouping gradient magnitudes (Grouping : Gradient magnitude):\n",
      "1 : 0.1412\n",
      "2 : 0.0784\n",
      "3 : 0.0758\n",
      "4 : 0.0716\n",
      "5 : 0.0716\n",
      "6 : 0.0\n",
      "7 : 0.0\n",
      "\n",
      "Selected entanglers:\n",
      "1.0 [X0 Y1 X2 X3]\n",
      "1.0 [X0 Y1 X4 X5]\n",
      "1.0 [X0 Y1 X6 X7]\n",
      "1.0 [X0 Y1 X3 X4]\n",
      "1.0 [X0 Y1 X2 X5]\n",
      "1.0 [X0 Y6]\n"
     ]
    }
   ],
   "source": [
    "basis = '6-31g'\n",
    "\n",
    "xyz_data = get_molecular_data(molecule, geometry=R, xyz_format=True)\n",
    "\n",
    "#active = {'B1':[0,1], 'A1':[2,3]}\n",
    "hm = tq.quantumchemistry.Molecule(geometry=xyz_data, basis_set = basis )#, active_orbitals = active)\n",
    "hf_reference = hf_occ(2*hm.n_orbitals, hm.n_electrons)\n",
    "\n",
    "\n",
    "H = hm.make_hamiltonian()\n",
    "\n",
    "print(\"\\nHamiltonian has {} terms\\n\".format(len(H)))\n",
    "\n",
    "#Define number of entanglers to enter ansatz\n",
    "n_ents = 6\n",
    "\n",
    "#Rank entanglers using energy gradient criterion\n",
    "ranked_entangler_groupings = generate_QCC_gradient_groupings(H.to_openfermion(), \n",
    "                                                             2*hm.n_orbitals, \n",
    "                                                             hf_reference, \n",
    "                                                             cutoff=threshold)\n",
    "\n",
    "print('Grouping gradient magnitudes (Grouping : Gradient magnitude):')\n",
    "for i in range(len(ranked_entangler_groupings)):\n",
    "    print('{} : {}'.format(i+1,ranked_entangler_groupings[i][1]))\n",
    "\n",
    "entanglers = get_QCC_entanglers(ranked_entangler_groupings, n_ents, 2*hm.n_orbitals)\n",
    "\n",
    "print('\\nSelected entanglers:')\n",
    "for ent in entanglers:\n",
    "    print(ent)"
   ]
  },
  {
   "cell_type": "markdown",
   "metadata": {},
   "source": [
    "With the 6 chosen entanglers, we can then run the QCC VQE simulation."
   ]
  },
  {
   "cell_type": "code",
   "execution_count": 12,
   "metadata": {},
   "outputs": [
    {
     "name": "stdout",
     "output_type": "stream",
     "text": [
      "Optimizer: <class 'tequila.optimizers.optimizer_scipy.OptimizerSciPy'> \n",
      "backend         : qulacs\n",
      "samples         : None\n",
      "save_history    : True\n",
      "noise           : None\n",
      "\n",
      "Method          : BFGS\n",
      "Objective       : 1 expectationvalues\n",
      "gradient        : 44 expectationvalues\n",
      "\n",
      "active variables : 22\n",
      "\n",
      "E=-0.99749729  angles= {beta_0: 3.141592653589793, gamma_0: 0.0, beta_1: 3.141592653589793, gamma_1: 0.0, beta_2: 0.0, gamma_2: 0.0, beta_3: 0.0, gamma_3: 0.0, beta_4: 0.0, gamma_4: 0.0, beta_5: 0.0, gamma_5: 0.0, beta_6: 0.0, gamma_6: 0.0, beta_7: 0.0, gamma_7: 0.0, tau_0: 0.0, tau_1: 0.0, tau_2: 0.0, tau_3: 0.0, tau_4: 0.0, tau_5: 0.0}  samples= None\n",
      "E=-1.02578376  angles= {beta_0: 3.1415926237874707, gamma_0: 0.0, beta_1: 3.1415926237874707, gamma_1: 0.0, beta_2: 0.0, gamma_2: 0.0, beta_3: 0.0, gamma_3: 0.0, beta_4: 0.0, gamma_4: 0.0, beta_5: 0.0, gamma_5: 0.0, beta_6: 0.0, gamma_6: 0.0, beta_7: 0.0, gamma_7: 0.0, tau_0: 0.14123618602752686, tau_1: 0.07843676209449768, tau_2: 0.07576305419206619, tau_3: -0.07164371013641357, tau_4: 0.07164371013641357, tau_5: -6.303191184997559e-06}  samples= None\n",
      "E=-1.04485788  angles= {beta_0: 3.1415926087642, gamma_0: 0.0, beta_1: 3.1415925639379108, gamma_1: 0.0, beta_2: 0.0, gamma_2: 0.0, beta_3: 0.0, gamma_3: 0.0, beta_4: 0.0, gamma_4: 0.0, beta_5: 0.0, gamma_5: 0.0, beta_6: 0.0, gamma_6: 0.0, beta_7: 0.0, gamma_7: 0.0, tau_0: 0.3720492536855607, tau_1: 0.08478285749375761, tau_2: 0.06584308987261525, tau_3: -0.14217469729449175, tau_4: 0.1421742714447424, tau_5: -0.02576254248662399}  samples= None\n",
      "E=-1.05130270  angles= {beta_0: 3.1415926392176377, gamma_0: 0.0, beta_1: 3.1415925427518507, gamma_1: 0.0, beta_2: 0.0, gamma_2: 0.0, beta_3: 0.0, gamma_3: 0.0, beta_4: 0.0, gamma_4: 0.0, beta_5: 0.0, gamma_5: 0.0, beta_6: 0.0, gamma_6: 0.0, beta_7: 0.0, gamma_7: 0.0, tau_0: 0.5406533929762021, tau_1: 0.06119750037092693, tau_2: 0.03180332593437698, tau_3: -0.15268280422271321, tau_4: 0.15088539008841717, tau_5: -0.05399445361141589}  samples= None\n",
      "E=-1.05218587  angles= {beta_0: 3.1415926386638406, gamma_0: 0.0, beta_1: 3.1415925748758537, gamma_1: 0.0, beta_2: 0.0, gamma_2: 0.0, beta_3: 0.0, gamma_3: 0.0, beta_4: 0.0, gamma_4: 0.0, beta_5: 0.0, gamma_5: 0.0, beta_6: 0.0, gamma_6: 0.0, beta_7: 0.0, gamma_7: 0.0, tau_0: 0.5745751156028371, tau_1: 0.048286474017502135, tau_2: 0.026008971071290316, tau_3: -0.13372924657524587, tau_4: 0.1301179854420821, tau_5: -0.059292753721908134}  samples= None\n",
      "E=-1.05226709  angles= {beta_0: 3.141592638600086, gamma_0: 0.0, beta_1: 3.1415926145908375, gamma_1: 0.0, beta_2: 0.0, gamma_2: 0.0, beta_3: 0.0, gamma_3: 0.0, beta_4: 0.0, gamma_4: 0.0, beta_5: 0.0, gamma_5: 0.0, beta_6: 0.0, gamma_6: 0.0, beta_7: 0.0, gamma_7: 0.0, tau_0: 0.5779170648133614, tau_1: 0.04541576723757936, tau_2: 0.027416660533491538, tau_3: -0.124450692305027, tau_4: 0.12009953448757753, tau_5: -0.05663942159786104}  samples= None\n",
      "E=-1.05226937  angles= {beta_0: 3.1415926386419986, gamma_0: 0.0, beta_1: 3.141592647475762, gamma_1: 0.0, beta_2: 0.0, gamma_2: 0.0, beta_3: 0.0, gamma_3: 0.0, beta_4: 0.0, gamma_4: 0.0, beta_5: 0.0, gamma_5: 0.0, beta_6: 0.0, gamma_6: 0.0, beta_7: 0.0, gamma_7: 0.0, tau_0: 0.5778497299925675, tau_1: 0.04539948764065854, tau_2: 0.027772524660913574, tau_3: -0.12372750839798116, tau_4: 0.1194540428200834, tau_5: -0.05482773499899734}  samples= None\n",
      "E=-1.05226970  angles= {beta_0: 3.1415926386670927, gamma_0: 0.0, beta_1: 3.1415926496134734, gamma_1: 0.0, beta_2: 0.0, gamma_2: 0.0, beta_3: 0.0, gamma_3: 0.0, beta_4: 0.0, gamma_4: 0.0, beta_5: 0.0, gamma_5: 0.0, beta_6: 0.0, gamma_6: 0.0, beta_7: 0.0, gamma_7: 0.0, tau_0: 0.577976587872204, tau_1: 0.045394561071353354, tau_2: 0.027852261627310096, tau_3: -0.12364330239361991, tau_4: 0.11954734162525445, tau_5: -0.053854724740868894}  samples= None\n",
      "E=-1.05226970  angles= {beta_0: 3.1415926386684294, gamma_0: 0.0, beta_1: 3.1415926498156956, gamma_1: 0.0, beta_2: 0.0, gamma_2: 0.0, beta_3: 0.0, gamma_3: 0.0, beta_4: 0.0, gamma_4: 0.0, beta_5: 0.0, gamma_5: 0.0, beta_6: 0.0, gamma_6: 0.0, beta_7: 0.0, gamma_7: 0.0, tau_0: 0.5780213621555754, tau_1: 0.04539556501978559, tau_2: 0.02783357248408158, tau_3: -0.12365489353627492, tau_4: 0.11962284465631326, tau_5: -0.05380784417475553}  samples= None\n",
      "E=-1.05226970  angles= {beta_0: 3.141592638668396, gamma_0: 0.0, beta_1: 3.1415926498383993, gamma_1: 0.0, beta_2: 0.0, gamma_2: 0.0, beta_3: 0.0, gamma_3: 0.0, beta_4: 0.0, gamma_4: 0.0, beta_5: 0.0, gamma_5: 0.0, beta_6: 0.0, gamma_6: 0.0, beta_7: 0.0, gamma_7: 0.0, tau_0: 0.5780284723225301, tau_1: 0.0453943976070319, tau_2: 0.027830364427722527, tau_3: -0.12364965220358493, tau_4: 0.11964137850181934, tau_5: -0.053809153102980276}  samples= None\n",
      "E=-1.05226970  angles= {beta_0: 3.1415926386683477, gamma_0: 0.0, beta_1: 3.141592649838092, gamma_1: 0.0, beta_2: 0.0, gamma_2: 0.0, beta_3: 0.0, gamma_3: 0.0, beta_4: 0.0, gamma_4: 0.0, beta_5: 0.0, gamma_5: 0.0, beta_6: 0.0, gamma_6: 0.0, beta_7: 0.0, gamma_7: 0.0, tau_0: 0.5780279885357424, tau_1: 0.04539447950065956, tau_2: 0.027830340352972847, tau_3: -0.12364618122746553, tau_4: 0.11964355792629937, tau_5: -0.053810379695123076}  samples= None\n",
      "Optimization terminated successfully.\n",
      "         Current function value: -1.052270\n",
      "         Iterations: 10\n",
      "         Function evaluations: 11\n",
      "         Gradient evaluations: 11\n",
      "\n",
      "Obtained QCC energy (6 entanglers): -1.0522697025852654\n"
     ]
    }
   ],
   "source": [
    "#Mean-field part of U (Omega):    \n",
    "U_MF = construct_QMF_ansatz(n_qubits = 2*hm.n_orbitals)\n",
    "#Entangling part of U:\n",
    "U_ENT = construct_QCC_ansatz(entanglers)\n",
    "\n",
    "U_QCC = U_MF + U_ENT\n",
    "\n",
    "E = tq.ExpectationValue(H=H, U=U_QCC)\n",
    "\n",
    "initial_vals = init_qcc_params(hf_reference, E.extract_variables())\n",
    "\n",
    "#Minimize wrt the entangler amplitude and MF angles:\n",
    "result = tq.minimize(objective=E, method=\"BFGS\", initial_values=initial_vals, tol=tol)\n",
    "\n",
    "\n",
    "print('\\nObtained QCC energy ({} entanglers): {}'.format(len(entanglers), result.energy))"
   ]
  },
  {
   "cell_type": "markdown",
   "metadata": {},
   "source": [
    "We obtain chemical accuracy for water near equilibrium geometry with only 6 entanglers. The obtained energy is not as accurate as that of UCCSD for this problem, however the QCC optimization may be performed at a fraction of the UCCSD circuit depth. One can also increase the number of entanglers entering the QCC ansatz to increase accuracy. As a final check, one can always run $n$ VQE trials with random initial guesses to test if the optimization fell into a local minimum. ***(Warning: Completing n=10 trials may take a few minutes for this VQE instance).***"
   ]
  },
  {
   "cell_type": "code",
   "execution_count": 13,
   "metadata": {},
   "outputs": [],
   "source": [
    "if abs(result.energy-e0)>tol*10000:\n",
    "    n = 5 #VGG10\n",
    "    result = minimize_E_random_guesses(objective=E, method='BFGS', tol=tol, n=n) #VGG tol=1e-2\n",
    "\n",
    "    print('\\nObtained QCC energy ({} entanglers): {:6.3f}'.format(len(entanglers), result))"
   ]
  },
  {
   "cell_type": "code",
   "execution_count": null,
   "metadata": {},
   "outputs": [],
   "source": []
  }
 ],
 "metadata": {
  "kernelspec": {
   "display_name": "Python 3",
   "language": "python",
   "name": "python3"
  },
  "language_info": {
   "codemirror_mode": {
    "name": "ipython",
    "version": 3
   },
   "file_extension": ".py",
   "mimetype": "text/x-python",
   "name": "python",
   "nbconvert_exporter": "python",
   "pygments_lexer": "ipython3",
   "version": "3.7.1"
  }
 },
 "nbformat": 4,
 "nbformat_minor": 2
}
