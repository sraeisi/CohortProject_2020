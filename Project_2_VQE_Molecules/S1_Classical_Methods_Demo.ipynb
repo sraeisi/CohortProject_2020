{
 "cells": [
  {
   "cell_type": "markdown",
   "metadata": {},
   "source": [
    "# Review of classical electronic structure methods \n",
    "\n",
    "In order to assess the performance of quantum computing algorithms in addressing the electronic structure problem, we will briefly review a few commonly employed classical electronic structure methods of varying level of approximation. \n",
    "\n",
    "## Hartree-Fock\n",
    "\n",
    "The Hartree-Fock (HF) method employs a **mean-field approximation**, where Coulomb correlation of electrons is neglected. The HF wavefunction is hence restricted to the form of a single Slater determinant, for which the optimal form may be acquired by an optimization of the underlying single particle basis (orbitals). Once the optimal HF orbitals have been found, the HF state may be written as \n",
    "\n",
    "$$ | \\text{HF} \\rangle = \\prod_{p \\in \\text{occ}} \\hat a^\\dagger_p | \\text{vac} \\rangle $$\n",
    "\n",
    "where $\\hat a^\\dagger_p$ creates an electron in the $p^{\\rm{th}}$ optimized HF spin orbital, and  $| \\text{vac} \\rangle$ is the vacuum state (all spin-orbitals unoccupied). Due to the restriction to a single Slater determinant, the HF energy may be obtained very efficiently and can be applied to very large molecules, however it becomes qualitatively incorrect when **electronic correlations** become sufficiently strong. The HF wavefunction is often used as a starting point in more accurate treatments of electronic correlation. \n",
    "\n",
    "## Coupled cluster\n",
    "\n",
    "The Coupled cluster (CC) method introduces electronic correlation to the wavefunction ansatz by operating on the HF reference state with the exponential of excitation operators\n",
    "\n",
    "$$|\\text{CC} \\rangle = e^{\\hat T} | \\text{HF}\\rangle, \\quad \\hat T = \\hat T_1 + \\hat T_2 + ...$$\n",
    "\n",
    "where $\\hat T_1 = \\sum_{ia} t^{a}_i \\hat a^\\dagger_a \\hat a_i$ are referred to as 'singles', $\\hat T_2 = \\sum_{ijab} t^{ab}_{ij} \\hat a^\\dagger_a \\hat a^\\dagger_b \\hat a_i \\hat a_j$ as 'doubles', etc. When the excitation rank is truncated to only singles (S) and doubles (D), $\\hat T = \\hat T_1 + \\hat T_2$, the corresponding ansatz is referred to as CCSD. Since the number of possible single and double excitations for a system of $N$ electrons in $M$ orbitals is polynomial in $M$, one can efficiently solve a system of equations to obtain the optimized CCSD amplitudes. CCSD often gives accurate energies and can be applied to modestly sized chemical systems. However, due to its implementation, it can **violate the variational principle** and give energies lower than the ground state.\n",
    "\n",
    "## Full Configuration Interaction\n",
    "The full configuration interaction (FCI) method yields the **exact ground state energy** within a given basis set. The FCI wavefunction is written as a linear combination of all possible $N$-particle Slater determinants over the orbital basis\n",
    "$$|\\text{FCI} \\rangle =  \\left( \\sum_{ia} C^{a}_i \\hat a^\\dagger_a \\hat a_i + \\sum_{ijab} C^{ab}_{ij} \\hat a^\\dagger_a \\hat a^\\dagger_b \\hat a_i \\hat a_j + ...  \\right) | \\text{HF} \\rangle $$\n",
    "where the sum includes up to $N$-electron excitations, and hence there are an exponential number of coefficients to optimize in $| \\text{FCI} \\rangle$. Due to its **exponential complexity**, FCI is often reserved for only the smallest chemical systems. However, it serves as a useful result to compare to when assessing tractable electronic structure methods."
   ]
  },
  {
   "cell_type": "markdown",
   "metadata": {},
   "source": [
    "# Benchmarking for electronic PESs in minimal basis (STO-3G)\n",
    "\n",
    "We will apply HF, CCSD, and FCI to obtaining the PESs for a few molecular dissociation processes in minimal (STO-3G) basis."
   ]
  },
  {
   "cell_type": "code",
   "execution_count": 1,
   "metadata": {},
   "outputs": [],
   "source": [
    "import time\n",
    "import numpy as np\n",
    "import matplotlib.pyplot as plt\n",
    "from utility import get_molecular_data, obtain_PES\n",
    "\n",
    "basis = 'sto-3g'"
   ]
  },
  {
   "cell_type": "markdown",
   "metadata": {},
   "source": [
    "## H<sub>2</sub>"
   ]
  },
  {
   "cell_type": "code",
   "execution_count": 2,
   "metadata": {},
   "outputs": [],
   "source": [
    "bond_lengths = np.linspace(0.2,2.6,15)"
   ]
  },
  {
   "cell_type": "code",
   "execution_count": 3,
   "metadata": {},
   "outputs": [
    {
     "name": "stdout",
     "output_type": "stream",
     "text": [
      "E = 0.15748213365503272 Eh\n",
      "E = -0.8488991062024303 Eh\n",
      "E = -1.0882281844069168 Eh\n",
      "E = -1.136928959400571 Eh\n",
      "E = -1.1229570527982327 Eh\n",
      "E = -1.0887645364963472 Eh\n",
      "E = -1.050442037218747 Eh\n",
      "E = -1.0154682491653277 Eh\n",
      "E = -0.987392996293216 Eh\n",
      "E = -0.9670259116093083 Eh\n",
      "E = -0.9534242125062942 Eh\n",
      "E = -0.9449089870950516 Eh\n",
      "E = -0.9398197912188275 Eh\n",
      "E = -0.9368706035283361 Eh\n",
      "E = -0.9351960308386078 Eh\n"
     ]
    }
   ],
   "source": [
    "#Run FCI\n",
    "FCI_PES = obtain_PES('h2', bond_lengths, basis, method='fci')"
   ]
  },
  {
   "cell_type": "code",
   "execution_count": 4,
   "metadata": {},
   "outputs": [
    {
     "name": "stdout",
     "output_type": "stream",
     "text": [
      "E = 0.16412595411335862 Eh\n",
      "E = -0.8397057843499789 Eh\n",
      "E = -1.074887931719117 Eh\n",
      "E = -1.1175258568986912 Eh\n",
      "E = -1.0951595815644795 Eh\n",
      "E = -1.0495617842752072 Eh\n",
      "E = -0.9960202460350677 Eh\n",
      "E = -0.9415475409906814 Eh\n",
      "E = -0.8899750208893146 Eh\n",
      "E = -0.8432718025417755 Eh\n",
      "E = -0.8022428650141384 Eh\n",
      "E = -0.7669825247359998 Eh\n",
      "E = -0.7371545448988288 Eh\n",
      "E = -0.7121961606082431 Eh\n",
      "E = -0.6914700512624794 Eh\n"
     ]
    }
   ],
   "source": [
    "#Run HF\n",
    "HF_PES = obtain_PES('h2', bond_lengths, basis,  method='hf')"
   ]
  },
  {
   "cell_type": "code",
   "execution_count": 5,
   "metadata": {},
   "outputs": [
    {
     "name": "stdout",
     "output_type": "stream",
     "text": [
      "E = 0.15748412056436217 Eh\n",
      "E = -0.8488985094851161 Eh\n",
      "E = -1.0882310174307857 Eh\n",
      "E = -1.1369333351418656 Eh\n",
      "E = -1.1229593878059763 Eh\n",
      "E = -1.0887606905920533 Eh\n",
      "E = -1.050426089327126 Eh\n",
      "E = -1.015441636439638 Eh\n",
      "E = -0.9873692257052735 Eh\n",
      "E = -0.9670168314563374 Eh\n",
      "E = -0.9534301294889956 Eh\n",
      "E = -0.9449225613845066 Eh\n",
      "E = -0.9398332746700124 Eh\n",
      "E = -0.9368793989542732 Eh\n",
      "E = -0.9351989265367034 Eh\n"
     ]
    }
   ],
   "source": [
    "#Run CCSD\n",
    "CCSD_PES = obtain_PES('h2', bond_lengths, basis,  method='ccsd')"
   ]
  },
  {
   "cell_type": "code",
   "execution_count": 6,
   "metadata": {},
   "outputs": [
    {
     "data": {
      "text/plain": [
       "<matplotlib.legend.Legend at 0x7f3877bcecf8>"
      ]
     },
     "execution_count": 6,
     "metadata": {},
     "output_type": "execute_result"
    },
    {
     "data": {
      "image/png": "[encoded data removed]",
      "text/plain": [
       "<Figure size 432x288 with 1 Axes>"
      ]
     },
     "metadata": {
      "needs_background": "light"
     },
     "output_type": "display_data"
    }
   ],
   "source": [
    "#Plot H2 PESs\n",
    "\n",
    "plt.title('H2 dissociation, STO-3G')\n",
    "plt.xlabel('R, Angstrom')\n",
    "plt.ylabel('E, Hartree')\n",
    "\n",
    "plt.plot(bond_lengths, FCI_PES, label='FCI')\n",
    "plt.scatter(bond_lengths, HF_PES, label='HF', color='orange')\n",
    "plt.scatter(bond_lengths, CCSD_PES, label='CCSD', color='purple')\n",
    "plt.legend()"
   ]
  },
  {
   "cell_type": "markdown",
   "metadata": {},
   "source": [
    "<img src=\"figs/testimage.png\">"
   ]
  },
  {
   "cell_type": "markdown",
   "metadata": {},
   "source": [
    "## H<sub>2</sub>O symmetric O-H dissociation"
   ]
  },
  {
   "cell_type": "code",
   "execution_count": 7,
   "metadata": {},
   "outputs": [],
   "source": [
    "bond_lengths = np.linspace(0.5,2.7,15)"
   ]
  },
  {
   "cell_type": "code",
   "execution_count": 8,
   "metadata": {},
   "outputs": [
    {
     "name": "stdout",
     "output_type": "stream",
     "text": [
      "E = -73.14278405998408 Eh\n",
      "E = -74.47523205267994 Eh\n",
      "E = -74.90413378058085 Eh\n",
      "E = -75.01383133956638 Eh\n",
      "E = -75.00356512166869 Eh\n",
      "E = -74.95170869126753 Eh\n",
      "E = -74.8921864821597 Eh\n",
      "E = -74.83923063661472 Eh\n",
      "E = -74.79866365936665 Eh\n",
      "E = -74.77161515186873 Eh\n",
      "E = -74.75568947216955 Eh\n",
      "E = -74.74704715250577 Eh\n",
      "E = -74.74248898749504 Eh\n",
      "E = -74.74007426355803 Eh\n",
      "Could not converge\n"
     ]
    }
   ],
   "source": [
    "#Run FCI\n",
    "FCI_PES = obtain_PES('h2o', bond_lengths, basis, method='fci')"
   ]
  },
  {
   "cell_type": "code",
   "execution_count": 9,
   "metadata": {},
   "outputs": [
    {
     "name": "stdout",
     "output_type": "stream",
     "text": [
      "E = -73.1294816132027 Eh\n",
      "E = -74.45343797012882 Eh\n",
      "E = -74.87055361048274 Eh\n",
      "E = -74.96308510923824 Eh\n",
      "E = -74.92817508739554 Eh\n",
      "E = -74.84281942863745 Eh\n",
      "E = -74.74051950148719 Eh\n",
      "E = -74.63577758413565 Eh\n",
      "E = -74.5357663865733 Eh\n",
      "E = -74.4449438474384 Eh\n",
      "E = -74.36975504261737 Eh\n",
      "E = -74.29778481417816 Eh\n",
      "E = -74.24167220051008 Eh\n",
      "E = -74.27129957697417 Eh\n",
      "Could not converge\n"
     ]
    }
   ],
   "source": [
    "#Run HF\n",
    "HF_PES = obtain_PES('h2o', bond_lengths, basis,  method='hf')"
   ]
  },
  {
   "cell_type": "code",
   "execution_count": 10,
   "metadata": {},
   "outputs": [
    {
     "name": "stdout",
     "output_type": "stream",
     "text": [
      "E = -73.1427636391869 Eh\n",
      "E = -74.47519485717146 Eh\n",
      "E = -74.90406353010555 Eh\n",
      "E = -75.01370018934803 Eh\n",
      "E = -75.00330155818891 Eh\n",
      "E = -74.95116757042632 Eh\n",
      "E = -74.89128367467832 Eh\n",
      "E = -74.8385340113911 Eh\n",
      "E = -74.80070162375995 Eh\n",
      "E = -74.78105738717322 Eh\n",
      "E = -74.74394274756116 Eh\n",
      "E = -74.77972801511778 Eh\n",
      "E = -74.78338963453125 Eh\n",
      "E = -74.64224434263167 Eh\n",
      "Could not converge\n"
     ]
    }
   ],
   "source": [
    "#Run CCSD\n",
    "CCSD_PES = obtain_PES('h2o', bond_lengths, basis,  method='ccsd')"
   ]
  },
  {
   "cell_type": "code",
   "execution_count": 6,
   "metadata": {},
   "outputs": [
    {
     "data": {
      "text/plain": [
       "<matplotlib.legend.Legend at 0x7ffe3d602fd0>"
      ]
     },
     "execution_count": 6,
     "metadata": {},
     "output_type": "execute_result"
    },
    {
     "data": {
      "image/png": "[encoded data removed]",
      "text/plain": [
       "<Figure size 432x288 with 1 Axes>"
      ]
     },
     "metadata": {
      "needs_background": "light"
     },
     "output_type": "display_data"
    }
   ],
   "source": [
    "#Plot H2O PESs\n",
    "\n",
    "plt.title('H2O symmetric dissociation, STO-3G')\n",
    "plt.xlabel('R, Angstrom')\n",
    "plt.ylabel('E, Hartree')\n",
    "\n",
    "plt.plot(bond_lengths, FCI_PES, label='FCI')\n",
    "plt.scatter(bond_lengths, HF_PES, label='HF', color='orange')\n",
    "plt.scatter(bond_lengths, CCSD_PES, label='CCSD', color='purple')\n",
    "plt.legend()"
   ]
  },
  {
   "cell_type": "markdown",
   "metadata": {},
   "source": [
    "Now we apply FCI, HF, CCSD and CISD methods to obtain PES of two more molecules- LiH and N2 ."
   ]
  },
  {
   "cell_type": "markdown",
   "metadata": {},
   "source": [
    "# LiH "
   ]
  },
  {
   "cell_type": "code",
   "execution_count": 6,
   "metadata": {},
   "outputs": [
    {
     "name": "stdout",
     "output_type": "stream",
     "text": [
      "E = -7.050225036066642 Eh\n",
      "E = -7.656973902520411 Eh\n",
      "E = -7.838969178528296 Eh\n",
      "E = -7.881561154690024 Eh\n",
      "E = -7.8751477919332 Eh\n",
      "E = -7.852601015611293 Eh\n",
      "E = -7.828270603987061 Eh\n",
      "E = -7.808887169919326 Eh\n",
      "E = -7.796427577191666 Eh\n",
      "E = -7.789498785374102 Eh\n",
      "E = -7.0284717535917025 Eh\n",
      "E = -7.638820884554587 Eh\n",
      "E = -7.822285940972653 Eh\n",
      "E = -7.8630437492307195 Eh\n",
      "E = -7.850996833708848 Eh\n",
      "E = -7.818585517832487 Eh\n",
      "E = -7.7793236819497 Eh\n",
      "E = -7.739449898210889 Eh\n",
      "E = -7.702405275833109 Eh\n",
      "E = -7.670202787852991 Eh\n",
      "E = -7.050156294294409 Eh\n",
      "E = -7.656967337737299 Eh\n",
      "E = -7.838962124054423 Eh\n",
      "E = -7.881550790015216 Eh\n",
      "E = -7.875132825615624 Eh\n",
      "E = -7.8525798705973875 Eh\n",
      "E = -7.828236554861081 Eh\n",
      "E = -7.808829722678409 Eh\n",
      "E = -7.796341817405303 Eh\n",
      "E = -7.789389227862769 Eh\n",
      "E = -7.050084132098711 Eh\n",
      "E = -7.65696340328409 Eh\n",
      "E = -7.83896060108503 Eh\n",
      "E = -7.881549595619722 Eh\n",
      "E = -7.875131056835929 Eh\n",
      "E = -7.852575070382767 Eh\n",
      "E = -7.828228069508826 Eh\n",
      "E = -7.8088191793482435 Eh\n",
      "E = -7.79633119815889 Eh\n",
      "E = -7.789379742760236 Eh\n"
     ]
    },
    {
     "data": {
      "text/plain": [
       "<matplotlib.legend.Legend at 0x7f2a2e8b5cf8>"
      ]
     },
     "execution_count": 6,
     "metadata": {},
     "output_type": "execute_result"
    },
    {
     "data": {
      "image/png": "[encoded data removed]",
      "text/plain": [
       "<Figure size 432x288 with 1 Axes>"
      ]
     },
     "metadata": {
      "needs_background": "light"
     },
     "output_type": "display_data"
    }
   ],
   "source": [
    "bond_lengths = np.linspace(0.5,3.4,10)\n",
    "\n",
    "#using various methods to obtain PES for LiH\n",
    "FCI_PES = obtain_PES('lih', bond_lengths, basis, method='fci')\n",
    "HF_PES = obtain_PES('lih', bond_lengths, basis,  method='hf')\n",
    "CCSD_PES = obtain_PES('lih', bond_lengths, basis,  method='ccsd')\n",
    "CISD_PES = obtain_PES('lih', bond_lengths, basis,  method='cisd')\n",
    "\n",
    "\n",
    "\n",
    "#plotting the data\n",
    "plt.title('LiH, STO-3G')\n",
    "plt.xlabel('R, Angstrom')\n",
    "plt.ylabel('E, Hartree')\n",
    "\n",
    "plt.plot(bond_lengths, FCI_PES, label='FCI')\n",
    "plt.scatter(bond_lengths, HF_PES, label='HF', color='r')\n",
    "plt.scatter(bond_lengths, CCSD_PES, label='CISD', marker='o',color='orange')\n",
    "plt.scatter(bond_lengths, CISD_PES, label='CCSD',  marker='x', color='k')\n",
    "plt.legend()"
   ]
  },
  {
   "cell_type": "markdown",
   "metadata": {},
   "source": [
    "# N2"
   ]
  },
  {
   "cell_type": "code",
   "execution_count": 4,
   "metadata": {},
   "outputs": [
    {
     "name": "stdout",
     "output_type": "stream",
     "text": [
      "E = -103.9317326159464 Eh\n",
      "E = -106.19514456320567 Eh\n",
      "E = -107.17709480522055 Eh\n",
      "E = -107.5607605748213 Eh\n",
      "E = -107.67119581714377 Eh\n",
      "E = -107.66534454763004 Eh\n",
      "E = -107.61735151807443 Eh\n",
      "E = -107.56129117531896 Eh\n",
      "E = -107.51301935617232 Eh\n",
      "E = -107.47911139742112 Eh\n",
      "E = -107.4591955614225 Eh\n",
      "E = -107.44899000073752 Eh\n",
      "E = -107.4441077334922 Eh\n",
      "E = -107.44172020050588 Eh\n",
      "E = -107.44041650088208 Eh\n",
      "CPU times: user 22.8 s, sys: 2.05 s, total: 24.9 s\n",
      "Wall time: 36.1 s\n",
      "E = -103.88092057889378 Eh\n",
      "E = -106.1215911212332 Eh\n",
      "E = -107.0776019608933 Eh\n",
      "E = -107.42937915491319 Eh\n",
      "E = -107.5006181276801 Eh\n",
      "E = -107.44810224264307 Eh\n",
      "E = -107.34619986288908 Eh\n",
      "E = -107.2288540147922 Eh\n",
      "E = -107.11129982734893 Eh\n",
      "E = -107.00075763368834 Eh\n",
      "E = -106.9008254500263 Eh\n",
      "E = -106.81294488211661 Eh\n",
      "E = -106.73705922097065 Eh\n",
      "E = -106.6722319171396 Eh\n",
      "E = -106.61720546931043 Eh\n",
      "CPU times: user 17.7 s, sys: 1.64 s, total: 19.3 s\n",
      "Wall time: 28.3 s\n",
      "E = -103.93078902953744 Eh\n",
      "E = -106.19300172659578 Eh\n",
      "E = -107.17281436741982 Eh\n",
      "E = -107.55258055812249 Eh\n",
      "E = -107.6562013243146 Eh\n",
      "E = -107.63943010199006 Eh\n",
      "E = -107.57552362322238 Eh\n",
      "E = -107.49806682608113 Eh\n",
      "E = -107.42276598662271 Eh\n",
      "E = -107.35675191183793 Eh\n",
      "E = -107.31550210811675 Eh\n",
      "E = -107.28109145425064 Eh\n",
      "E = -107.24762056717849 Eh\n",
      "E = -107.21689524432098 Eh\n",
      "E = -107.18977698854829 Eh\n",
      "CPU times: user 10.6 s, sys: 1.92 s, total: 12.5 s\n",
      "Wall time: 19.6 s\n"
     ]
    },
    {
     "data": {
      "text/plain": [
       "<matplotlib.legend.Legend at 0x7fa12b729208>"
      ]
     },
     "execution_count": 4,
     "metadata": {},
     "output_type": "execute_result"
    },
    {
     "data": {
      "image/png": "[encoded data removed]",
      "text/plain": [
       "<Figure size 432x288 with 1 Axes>"
      ]
     },
     "metadata": {
      "needs_background": "light"
     },
     "output_type": "display_data"
    }
   ],
   "source": [
    "bond_lengths = np.linspace(0.6,2.5,15)\n",
    "\n",
    "#using various methods to obtain PES for N2\n",
    "%time FCI_PES = obtain_PES('n2', bond_lengths, basis, method='fci')\n",
    "%time HF_PES = obtain_PES('n2', bond_lengths, basis,  method='hf')\n",
    "#%time CCSD_PES = obtain_PES('n2', bond_lengths, basis,  method='ccsd')\n",
    "%time CISD_PES = obtain_PES('n2', bond_lengths, basis,  method='cisd')\n",
    "\n",
    "\n",
    "\n",
    "#plotting the data\n",
    "plt.title('N2, STO-3G')\n",
    "plt.xlabel('R, Angstrom')\n",
    "plt.ylabel('E, Hartree')\n",
    "\n",
    "plt.plot(bond_lengths, FCI_PES, label='FCI')\n",
    "plt.scatter(bond_lengths, HF_PES, label='HF', color='r')\n",
    "#plt.scatter(bond_lengths, CCSD_PES, label='CISD', marker='o',color='orange')\n",
    "plt.scatter(bond_lengths, CISD_PES, label='CISD',  marker='x', color='k')\n",
    "plt.legend()"
   ]
  },
  {
   "cell_type": "code",
   "execution_count": null,
   "metadata": {},
   "outputs": [],
   "source": []
  }
 ],
 "metadata": {
  "kernelspec": {
   "display_name": "week_2",
   "language": "python",
   "name": "week_2"
  },
  "language_info": {
   "codemirror_mode": {
    "name": "ipython",
    "version": 3
   },
   "file_extension": ".py",
   "mimetype": "text/x-python",
   "name": "python",
   "nbconvert_exporter": "python",
   "pygments_lexer": "ipython3",
   "version": "3.7.1"
  }
 },
 "nbformat": 4,
 "nbformat_minor": 2
}
