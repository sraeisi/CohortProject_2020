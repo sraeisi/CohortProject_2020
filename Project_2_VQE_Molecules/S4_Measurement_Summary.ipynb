{
 "cells": [
  {
   "cell_type": "markdown",
   "metadata": {},
   "source": [
    "# Measurement Grouping\n",
    "\n",
    "Since current quantum hardware is limited to single-qubit projective measurement, only terms commuting within individual qubit's subspace can be measured together. These terms are said to be qubit-wise commuting (QWC). \n",
    "\n",
    "Thus, one can not measure the entire electronic Hamiltonian $\\hat H$ at once, and instead needs to separate it into fragments. \n",
    "$$\\hat H = \\sum_n \\hat H_n$$\n",
    "where each $\\hat H_n$ is a QWC fragment. "
   ]
  },
  {
   "cell_type": "code",
   "execution_count": 1,
   "metadata": {},
   "outputs": [],
   "source": [
    "from utility import * \n",
    "import time"
   ]
  },
  {
   "cell_type": "markdown",
   "metadata": {},
   "source": [
    "Here we use $H_2$ as an example for finding QWC fragments. Notice below that each fragment has the same terms on all qubits.  \n",
    "\n",
    "To show differences between QWC and more advanced grouping, we didn't use the qubit-tappering techinique shown in step 2."
   ]
  },
  {
   "cell_type": "code",
   "execution_count": 2,
   "metadata": {
    "tags": []
   },
   "outputs": [
    {
     "name": "stdout",
     "output_type": "stream",
     "text": [
      "Fragments 1: \n",
      "0.13716572937099503 [Z0] +\n",
      "0.15660062488237958 [Z0 Z1] +\n",
      "0.10622904490856082 [Z0 Z2] +\n",
      "0.15542669077992838 [Z0 Z3] +\n",
      "0.13716572937099503 [Z1] +\n",
      "0.15542669077992838 [Z1 Z2] +\n",
      "0.10622904490856082 [Z1 Z3] +\n",
      "-0.13036292057109122 [Z2] +\n",
      "0.1632676867356435 [Z2 Z3] +\n",
      "-0.13036292057109122 [Z3]\n",
      "\n",
      "Fragments 2:\n",
      "-0.049197645871367574 [X0 X1 Y2 Y3]\n",
      "\n",
      "Number of fragments: 5\n"
     ]
    }
   ],
   "source": [
    "h2 = get_qubit_hamiltonian(mol='h2', geometry=1, basis='sto3g', qubit_transf='jw')\n",
    "\n",
    "qwc_list = get_qwc_group(h2)\n",
    "print('Fragments 1: \\n{}\\n'.format(qwc_list[4]))\n",
    "print('Fragments 2:\\n{}\\n'.format(qwc_list[1]))\n",
    "print('Number of fragments: {}'.format(len(qwc_list)))"
   ]
  },
  {
   "cell_type": "markdown",
   "metadata": {},
   "source": [
    "By applying extra unitaries, one may rotate more terms of $\\hat H$ into a QWC fragment.  \n",
    "\n",
    "Recall that in digital quantum computing, the expectation value of $\\hat H_n$ given a trial wavefunction $|\\psi\\rangle$ is \n",
    "$$ E_n =\\ \\langle\\psi| \\hat H_n | \\psi\\rangle$$\n",
    "Inserting unitary transformation $\\hat U_n$ does not change the expectation value.\n",
    "$$ E_n =\\ \\langle\\psi| \\hat U_n^\\dagger \\hat U_n \\hat H_n \\hat U_n^\\dagger \\hat U_n  |\\psi\\rangle$$ \n",
    "This nonetheless changes the trial wavefunction and the terms to be measured. \n",
    "$$ |\\psi\\rangle \\rightarrow \\hat U_n |\\psi\\rangle = |\\phi\\rangle$$\n",
    "$$ \\hat H_n \\rightarrow \\hat U_n \\hat H_n \\hat U_n^\\dagger = \\hat A_n$$\n",
    "The transformation of $|\\psi \\rangle$ can be done on the quantum computer, and the transformation of $\\hat H_n$ is possible on the classical computer. \n",
    "\n",
    "Now, although $\\hat A_n$ needs to be a QWC fragment to be measurable on a quantum computer, $\\hat H_n$ does not. \n",
    "Instead, if we restrict $\\hat U_n$ to be a clifford operation, the terms in $\\hat H$ need only mutually commute. \n",
    "\n",
    "Here, we obtain measurable parts of $H_2$ by partitioning its terms into mutually commuting fragments. "
   ]
  },
  {
   "cell_type": "code",
   "execution_count": 3,
   "metadata": {
    "tags": []
   },
   "outputs": [
    {
     "name": "stdout",
     "output_type": "stream",
     "text": [
      "Number of mutually commuting fragments: 2\n",
      "The first commuting group\n",
      "-0.32760818967480915 [] +\n",
      "-0.049197645871367574 [X0 X1 Y2 Y3] +\n",
      "0.049197645871367574 [X0 Y1 Y2 X3] +\n",
      "0.049197645871367574 [Y0 X1 X2 Y3] +\n",
      "-0.049197645871367574 [Y0 Y1 X2 X3] +\n",
      "0.15660062488237958 [Z0 Z1] +\n",
      "0.10622904490856082 [Z0 Z2] +\n",
      "0.15542669077992838 [Z0 Z3] +\n",
      "0.15542669077992838 [Z1 Z2] +\n",
      "0.10622904490856082 [Z1 Z3] +\n",
      "0.1632676867356435 [Z2 Z3]\n"
     ]
    }
   ],
   "source": [
    "comm_groups = get_commuting_group(h2)\n",
    "print('Number of mutually commuting fragments: {}'.format(len(comm_groups)))\n",
    "print('The first commuting group')\n",
    "print(comm_groups[1])"
   ]
  },
  {
   "cell_type": "markdown",
   "metadata": {},
   "source": [
    "To see this fragment is indeed measurable, one can construct the corresponding unitary operator $\\hat U_n$."
   ]
  },
  {
   "cell_type": "code",
   "execution_count": 4,
   "metadata": {
    "tags": []
   },
   "outputs": [
    {
     "name": "stdout",
     "output_type": "stream",
     "text": [
      "This is unitary, U * U^+ = I \n",
      "(0.9999999999999996+0j) []\n"
     ]
    }
   ],
   "source": [
    "uqwc = get_qwc_unitary(comm_groups[1])\n",
    "print('This is unitary, U * U^+ = I ')\n",
    "print(uqwc * uqwc)"
   ]
  },
  {
   "cell_type": "markdown",
   "metadata": {},
   "source": [
    "Applying this unitary gives the qubit-wise commuting form of the first mutually commuting group"
   ]
  },
  {
   "cell_type": "code",
   "execution_count": 5,
   "metadata": {
    "tags": []
   },
   "outputs": [
    {
     "name": "stdout",
     "output_type": "stream",
     "text": [
      "-0.3276081896748089 [] +\n",
      "0.15542669077992824 [X0] +\n",
      "0.15660062488237952 [X0 X1] +\n",
      "0.049197645871367546 [X0 X1 Z3] +\n",
      "0.10622904490856076 [X0 X2] +\n",
      "-0.049197645871367546 [X0 Z3] +\n",
      "0.10622904490856076 [X1] +\n",
      "0.15542669077992824 [X1 X2] +\n",
      "-0.049197645871367546 [X1 X2 Z3] +\n",
      "0.16326768673564335 [X2] +\n",
      "0.049197645871367546 [X2 Z3]\n"
     ]
    }
   ],
   "source": [
    "qwc = remove_complex(uqwc * comm_groups[1] * uqwc)\n",
    "print(qwc)"
   ]
  },
  {
   "cell_type": "markdown",
   "metadata": {},
   "source": [
    "In addition, current quantum computer can measure only the $z$ operators. Thus, QWC fragments with $x$ or $y$ operators require extra single-qubit unitaries that rotate them into $z$.  "
   ]
  },
  {
   "cell_type": "code",
   "execution_count": 6,
   "metadata": {
    "tags": []
   },
   "outputs": [
    {
     "name": "stdout",
     "output_type": "stream",
     "text": [
      "Checking whether U * U^+ is identity: 0.9999999999999998 []\n",
      "\n",
      "The all-z form of qwc fragment:\n",
      "-0.3276081896748088 [] +\n",
      "0.15542669077992818 [Z0] +\n",
      "0.15660062488237944 [Z0 Z1] +\n",
      "0.04919764587136753 [Z0 Z1 Z3] +\n",
      "0.1062290449085607 [Z0 Z2] +\n",
      "-0.04919764587136753 [Z0 Z3] +\n",
      "0.1062290449085607 [Z1] +\n",
      "0.15542669077992818 [Z1 Z2] +\n",
      "-0.04919764587136753 [Z1 Z2 Z3] +\n",
      "0.16326768673564326 [Z2] +\n",
      "0.04919764587136753 [Z2 Z3]\n"
     ]
    }
   ],
   "source": [
    "uz = get_zform_unitary(qwc)\n",
    "print(\"Checking whether U * U^+ is identity: {}\".format(uz * uz))\n",
    "\n",
    "allz = remove_complex(uz * qwc * uz)\n",
    "print(\"\\nThe all-z form of qwc fragment:\\n{}\".format(allz))"
   ]
  },
  {
   "cell_type": "code",
   "execution_count": null,
   "metadata": {},
   "outputs": [],
   "source": []
  },
  {
   "cell_type": "code",
   "execution_count": null,
   "metadata": {},
   "outputs": [
    {
     "name": "stdout",
     "output_type": "stream",
     "text": [
      "\n",
      "molecule: H2  in  STO-3G basis using JW q-bits map; number of fragments: 5\n",
      "Number of mutually commuting fragments: 2\n",
      "\tqwc fragment 1 has 11 all-z elements (original elemets 11).\n",
      "\tqwc fragment 2 has 4 all-z elements (original elemets 4).\n",
      "\tComputainal time: 1.308319330215454\n",
      "\n",
      "molecule: H2  in  STO-3G basis using BK q-bits map; number of fragments: 3\n",
      "Number of mutually commuting fragments: 2\n",
      "\tqwc fragment 1 has 11 all-z elements (original elemets 11).\n",
      "\tRandom test of the Unitary...\n",
      "\tqwc fragment 2 has 4 all-z elements (original elemets 4).\n",
      "\tComputainal time: 0.21230554580688477\n",
      "\n",
      "molecule: H2  in  6-31G basis using JW q-bits map; number of fragments: 68\n",
      "Number of mutually commuting fragments: 9\n",
      "\tRandom test of the UZ Unitary...\n",
      "\tqwc fragment 1 has 29 all-z elements (original elemets 29).\n",
      "\tqwc fragment 2 has 24 all-z elements (original elemets 24).\n",
      "\tqwc fragment 3 has 20 all-z elements (original elemets 20).\n",
      "\tRandom test of the UZ Unitary...\n",
      "\tqwc fragment 4 has 20 all-z elements (original elemets 20).\n",
      "\tqwc fragment 5 has 28 all-z elements (original elemets 28).\n",
      "\tqwc fragment 6 has 20 all-z elements (original elemets 20).\n",
      "\tqwc fragment 7 has 24 all-z elements (original elemets 24).\n",
      "\tqwc fragment 8 has 12 all-z elements (original elemets 12).\n",
      "\tqwc fragment 9 has 8 all-z elements (original elemets 8).\n",
      "\tComputainal time: 140.68977975845337\n",
      "\n",
      "molecule: H2  in  6-31G basis using BK q-bits map; number of fragments: 54\n",
      "Number of mutually commuting fragments: 9\n",
      "\tqwc fragment 1 has 29 all-z elements (original elemets 29).\n",
      "\tqwc fragment 2 has 24 all-z elements (original elemets 24).\n",
      "\tRandom test of the UZ Unitary...\n",
      "\tqwc fragment 3 has 20 all-z elements (original elemets 20).\n",
      "\tqwc fragment 4 has 20 all-z elements (original elemets 20).\n",
      "\tqwc fragment 5 has 28 all-z elements (original elemets 28).\n",
      "\tqwc fragment 6 has 20 all-z elements (original elemets 20).\n",
      "\tRandom test of the UZ Unitary...\n",
      "\tqwc fragment 7 has 24 all-z elements (original elemets 24).\n",
      "\tqwc fragment 8 has 12 all-z elements (original elemets 12).\n",
      "\tRandom test of the UZ Unitary...\n",
      "\tqwc fragment 9 has 8 all-z elements (original elemets 8).\n",
      "\tComputainal time: 130.62293314933777\n",
      "\n",
      "molecule: H4  in  STO-3G basis using JW q-bits map; number of fragments: 33\n",
      "Number of mutually commuting fragments: 4\n",
      "\tRandom test of the UZ Unitary...\n",
      "\tqwc fragment 1 has 25 all-z elements (original elemets 25).\n",
      "\tRandom test of the UZ Unitary...\n",
      "\tqwc fragment 2 has 24 all-z elements (original elemets 24).\n",
      "\tqwc fragment 3 has 20 all-z elements (original elemets 20).\n",
      "\tqwc fragment 4 has 24 all-z elements (original elemets 24).\n",
      "\tComputainal time: 77.02102708816528\n",
      "\n",
      "molecule: H4  in  STO-3G basis using BK q-bits map; number of fragments: 21\n",
      "Number of mutually commuting fragments: 4\n",
      "\tqwc fragment 1 has 25 all-z elements (original elemets 25).\n",
      "\tqwc fragment 2 has 24 all-z elements (original elemets 24).\n",
      "\tRandom test of the UZ Unitary...\n",
      "\tqwc fragment 3 has 20 all-z elements (original elemets 20).\n",
      "\tRandom test of the Unitary...\n",
      "\tqwc fragment 4 has 24 all-z elements (original elemets 24).\n",
      "\tComputainal time: 76.61201214790344\n",
      "\n",
      "molecule: H4  in  6-31G basis using JW q-bits map; number of fragments: 637\n",
      "Number of mutually commuting fragments: 85\n",
      "\tComputainal time: 24.18911576271057\n",
      "\n",
      "molecule: H4  in  6-31G basis using BK q-bits map; number of fragments: 592\n",
      "Number of mutually commuting fragments: 79\n",
      "\tComputainal time: 22.311011791229248\n",
      "\n",
      "molecule: LIH  in  STO-3G basis using JW q-bits map; number of fragments: 154\n",
      "Number of mutually commuting fragments: 36\n",
      "\tComputainal time: 3.2301266193389893\n",
      "\n",
      "molecule: LIH  in  STO-3G basis using BK q-bits map; number of fragments: 142\n",
      "Number of mutually commuting fragments: 36\n",
      "\tComputainal time: 2.8234024047851562\n",
      "\n",
      "molecule: LIH  in  6-31G basis using JW q-bits map; number of fragments: 2604\n",
      "Number of mutually commuting fragments: 225\n",
      "\tComputainal time: 452.6213479042053\n",
      "\n",
      "molecule: LIH  in  6-31G basis using BK q-bits map; number of fragments: 2608\n",
      "Number of mutually commuting fragments: 225\n",
      "\tComputainal time: 432.6712610721588\n",
      "\n",
      "molecule: H2O  in  STO-3G basis using JW q-bits map; number of fragments: 323\n",
      "Number of mutually commuting fragments: 52\n",
      "\tComputainal time: 8.179828882217407\n",
      "\n",
      "molecule: H2O  in  STO-3G basis using BK q-bits map; number of fragments: 313\n",
      "Number of mutually commuting fragments: 52\n",
      "\tComputainal time: 7.365359783172607\n"
     ]
    }
   ],
   "source": [
    "molecules=['h2','h4','lih','h2o','n2','nh3']\n",
    "methods=['hf','cisd','ccsd','fci']\n",
    "basies=['sto-3g','6-31g']\n",
    "qubit_transfms=['jw','bk'] \n",
    "\n",
    "qubit_transf = 'jw' # Jordan-Wigner transformations\n",
    "\n",
    "for mol in molecules:\n",
    "\n",
    "    for basis in basies:\n",
    "\n",
    "        for qubit_transf in qubit_transfms:\n",
    "                \n",
    "            start=time.time()\n",
    "            \n",
    "            H = get_qubit_hamiltonian(mol, geometry=1, basis=basis, qubit_transf=qubit_transf)\n",
    "\n",
    "            qwc_list = get_qwc_group(H)\n",
    "            print('\\nmolecule:',mol.upper(),' in ',basis.upper(),'basis using',qubit_transf.upper(),\n",
    "                  'q-bits map; number of fragments: {}'.format(len(qwc_list)))\n",
    "\n",
    "            comm_groups = get_commuting_group(H)\n",
    "            print('Number of mutually commuting fragments: {}'.format(len(comm_groups)))\n",
    "            \n",
    "            if len(comm_groups) < 10:\n",
    "\n",
    "                for i,comm_group in enumerate(comm_groups):\n",
    "\n",
    "                    uqwc = get_qwc_unitary(comm_groups[i+1])\n",
    "\n",
    "                    if np.random.random() <0.2:\n",
    "                        print(\"\\tRandom test of the Unitary...\")\n",
    "                        tmp=remove_complex(uqwc * uqwc)\n",
    "                        if np.abs(1-tmp.terms[()])>10**(-6):\n",
    "                            print('Unitary problem: I=/=U * U^+ is:',tmp)\n",
    "                    else:\n",
    "                        test=False\n",
    "\n",
    "                    qwc = remove_complex(uqwc * comm_groups[i+1] * uqwc)\n",
    "                    uz = get_zform_unitary(qwc)\n",
    "\n",
    "                    if np.random.random() <0.2:\n",
    "                        print(\"\\tRandom test of the UZ Unitary...\")\n",
    "                        tmp=remove_complex(uz * uz)\n",
    "                        if abs(1-tmp.terms[()])>10**(-6) and test:\n",
    "                            print('UZ unitary problem: I=/=U * U^+ is:',tmp)\n",
    "\n",
    "                    allz = remove_complex(uz * qwc * uz)\n",
    "                    print(\"\\tqwc fragment {} has {} all-z elements (original elemets {}).\".format(\n",
    "                        i+1,len(allz.terms),len(comm_groups[i+1].terms)))\n",
    "                      \n",
    "            print(\"\\tComputainal time:\",time.time()-start)          "
   ]
  },
  {
   "cell_type": "code",
   "execution_count": null,
   "metadata": {},
   "outputs": [],
   "source": []
  }
 ],
 "metadata": {
  "kernelspec": {
   "display_name": "Python 3",
   "language": "python",
   "name": "python3"
  },
  "language_info": {
   "codemirror_mode": {
    "name": "ipython",
    "version": 3
   },
   "file_extension": ".py",
   "mimetype": "text/x-python",
   "name": "python",
   "nbconvert_exporter": "python",
   "pygments_lexer": "ipython3",
   "version": "3.7.1"
  }
 },
 "nbformat": 4,
 "nbformat_minor": 2
}
