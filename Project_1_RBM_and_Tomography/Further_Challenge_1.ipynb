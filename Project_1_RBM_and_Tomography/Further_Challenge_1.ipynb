{
 "cells": [
  {
   "cell_type": "code",
   "execution_count": null,
   "metadata": {
    "colab": {},
    "colab_type": "code",
    "id": "SLM-N6J308MA"
   },
   "outputs": [],
   "source": [
    "!pip install qucumber"
   ]
  },
  {
   "cell_type": "code",
   "execution_count": null,
   "metadata": {
    "colab": {},
    "colab_type": "code",
    "id": "9ikMBYbswadX"
   },
   "outputs": [],
   "source": [
    "import numpy as np\n",
    "import torch\n",
    "import matplotlib.pyplot as plt\n",
    "from qucumber.nn_states import ComplexWaveFunction\n",
    "from qucumber.callbacks import MetricEvaluator\n",
    "import qucumber.utils.unitaries as unitaries\n",
    "import qucumber.utils.cplx as cplx\n",
    "import qucumber.utils.training_statistics as ts\n",
    "import qucumber.utils.data as data\n",
    "import qucumber\n",
    "\n",
    "# set random seed on cpu but not gpu, since we won't use gpu for this tutorial\n",
    "qucumber.set_random_seed(1234, cpu=True, gpu=False)"
   ]
  },
  {
   "cell_type": "markdown",
   "metadata": {
    "colab_type": "text",
    "id": "xanNErz_Acj1"
   },
   "source": [
    "The main difference between the previous tasks and the additional data provided is that in the first cases we tried to reconstruct the energy of the system from which we measured, while in the latter the reconstruction is of the original state from which the measurements were made.\n",
    "\n",
    "In the following code we made a 4 qubit LiH state reconstruction by another method using the qucumber library and following the example with 2 qubits at the following link:\n",
    "\n",
    "https://github.com/PIQuIL/QuCumber/blob/master/examples/Tutorial2_TrainComplexWaveFunction/tutorial_qubits.ipynb"
   ]
  },
  {
   "cell_type": "markdown",
   "metadata": {
    "colab_type": "text",
    "id": "LkAaDKvVP1RJ"
   },
   "source": [
    "# Reconstruction of a LiH"
   ]
  },
  {
   "cell_type": "markdown",
   "metadata": {
    "colab_type": "text",
    "id": "2uGvwOEPjIrv"
   },
   "source": [
    "## The wavefunction to be reconstructed\n",
    "The four qubits wavefunction below (coefficients stored in `LiH - psi.txt`) will be reconstructed.\n",
    "\n",
    "\n",
    "$$\\vert\\psi \\rangle = \\alpha1 \\vert0000\\rangle + \\beta1 \\vert 0001\\rangle + \\gamma1 \\vert0010\\rangle + \\delta1 \\vert0011\\rangle $$\n",
    "+\n",
    "$$\\alpha2 \\vert0100\\rangle + \\beta2 \\vert 0101\\rangle + \\gamma2 \\vert0110\\rangle + \\delta2 \\vert0111\\rangle$$\n",
    "+\n",
    "$$\\alpha3 \\vert1000\\rangle + \\beta3 \\vert 1001\\rangle + \\gamma3 \\vert1010\\rangle + \\delta3 \\vert1011\\rangle$$\n",
    "+\n",
    "$$\\alpha4 \\vert1100\\rangle + \\beta4 \\vert 1101\\rangle + \\gamma4 \\vert1110\\rangle + \\delta4 \\vert1111\\rangle$$\n",
    "\n",
    "where \n",
    "\n",
    "$$\n",
    "\\alpha 1 = 4.9639 e-03\n",
    "\\beta 1 = -1.8227 e-16\n",
    "\\gamma 1 = 5.7627 e-02\n",
    "\\delta 1 = -1.1165 e-01\n",
    "$$\n",
    ";\n",
    "$$\n",
    "\\alpha 2 = 3.2638 e-02 \n",
    "\\beta 2 = 2.4447 e-16 \n",
    "\\gamma 2 = -3.5453 e-02\n",
    "\\delta 2 = 5.7627 e-02\n",
    "$$\n",
    ";\n",
    "$$\n",
    "\\alpha 3 = -8.1068 e-17\n",
    "\\beta 3 = 2.1391 e-16\n",
    "\\gamma 3 = -4.5975 e-16\n",
    "\\delta 3 = 7.6073 e-16\n",
    "$$\n",
    ";\n",
    "$$\n",
    "\\alpha 4 = 9.8866 e-01\n",
    "\\beta 4 = 4.2995 e-16\n",
    "\\gamma 4 = 3.2638 e-02\n",
    "\\delta 4 = 4.9639 e-03\n",
    "$$\n",
    "\n",
    "\n",
    "The example dataset, `LiH - train_samples.txt`, comprises of 500 $\\sigma$ measurements made in various bases (X, Y and Z). A corresponding file containing the bases for each data point in `LiH - train_samples.txt`, `LiH - train_bases.txt.txt`, is also required. As per convention, spins are represented in binary notation with zero and one denoting spin-down and spin-up, respectively.\n",
    "\n",
    "## Using qucumber to reconstruct the wavefunction"
   ]
  },
  {
   "cell_type": "markdown",
   "metadata": {
    "colab_type": "text",
    "id": "o6-mkwzrmgRI"
   },
   "source": [
    "The Python class `ComplexWaveFunction` contains generic properties of a RBM meant to reconstruct a complex wavefunction, the most notable one being the gradient function required for stochastic gradient descent.\n",
    "\n",
    "To instantiate a `ComplexWaveFunction` object, one needs to specify the number of visible and hidden units in the RBM. The number of visible units, `num_visible`, is given by the size of the physical system, i.e. the number of spins or qubits (2 in this case), while the number of hidden units, `num_hidden`, can be varied to change the expressiveness of the neural network.\n",
    "\n",
    "**Note:** The optimal `num_hidden` : `num_visible` ratio will depend on the system. For the two-qubit wavefunction described above, good results can be achieved when this ratio is 1.\n",
    "\n",
    "On top of needing the number of visible and hidden units, a `ComplexWaveFunction` object requires the user to input a dictionary containing the unitary operators (2x2) that will be used to rotate the qubits in and out of the computational basis, Z, during the training process. The `unitaries` utility will take care of creating this dictionary.\n",
    "\n",
    "The `MetricEvaluator` class and `training_statistics` utility are built-in amenities that will allow the user to evaluate the training in real time. \n",
    "\n",
    "Lastly, the `cplx` utility allows QuCumber to be able to handle complex numbers as they are not currently supported by PyTorch.\n",
    "\n",
    "\n",
    "### Training\n",
    "To evaluate the training in real time, the fidelity between the true wavefunction of the system and the wavefunction that QuCumber reconstructs, $\\vert\\langle\\psi\\vert\\psi_{RBM}\\rangle\\vert^2$, will be calculated along with the Kullback-Leibler (KL) divergence (the RBM's cost function). First, the training data and the true wavefunction of this system need to be loaded using the `data` utility."
   ]
  },
  {
   "cell_type": "code",
   "execution_count": null,
   "metadata": {
    "colab": {},
    "colab_type": "code",
    "id": "CRHrob2mP5r3"
   },
   "outputs": [],
   "source": [
    "train_path = \"LiH - train_samples.txt\"\n",
    "train_bases_path = \"LiH - train_bases.txt\"\n",
    "psi_path = \"LiH - psi.txt\"\n",
    "bases_path = \"LiH - qubit_bases.txt\"\n",
    "\n",
    "train_samples, true_psi, train_bases, bases = data.load_data(\n",
    "    train_path, psi_path, train_bases_path, bases_path\n",
    ")\n",
    "train_samples = train_samples[0:10000,:]\n",
    "train_bases = train_bases[0:10000,:]"
   ]
  },
  {
   "cell_type": "code",
   "execution_count": null,
   "metadata": {
    "colab": {},
    "colab_type": "code",
    "id": "5M457dRvQfss"
   },
   "outputs": [],
   "source": [
    "unitary_dict = unitaries.create_dict()"
   ]
  },
  {
   "cell_type": "code",
   "execution_count": null,
   "metadata": {
    "colab": {},
    "colab_type": "code",
    "id": "kRk4SY1fQnTU"
   },
   "outputs": [],
   "source": [
    "nv = train_samples.shape[-1]\n",
    "nh = nv\n",
    "\n",
    "nn_state = ComplexWaveFunction(\n",
    "    num_visible=nv, num_hidden=nh, unitary_dict=unitary_dict, gpu=True\n",
    ")"
   ]
  },
  {
   "cell_type": "code",
   "execution_count": null,
   "metadata": {
    "colab": {},
    "colab_type": "code",
    "id": "ut_pkZXnQtWD"
   },
   "outputs": [],
   "source": [
    "epochs = 500\n",
    "pbs = 100  # pos_batch_size\n",
    "nbs = pbs  # neg_batch_size\n",
    "lr = 0.01\n",
    "k = 10"
   ]
  },
  {
   "cell_type": "code",
   "execution_count": null,
   "metadata": {
    "colab": {},
    "colab_type": "code",
    "id": "GOTYJKJzQ5zo"
   },
   "outputs": [],
   "source": [
    "def alpha1(nn_state, space, **kwargs):\n",
    "    rbm_psi = nn_state.psi(space)\n",
    "    normalization = nn_state.normalization(space).sqrt_()\n",
    "    alpha_ = cplx.norm(\n",
    "        torch.tensor([rbm_psi[0][0], rbm_psi[1][0]], device=nn_state.device)\n",
    "        / normalization\n",
    "    )\n",
    "    return alpha_\n",
    "\n",
    "def beta1(nn_state, space, **kwargs):\n",
    "    rbm_psi = nn_state.psi(space)\n",
    "    normalization = nn_state.normalization(space).sqrt_()\n",
    "    beta_ = cplx.norm(\n",
    "        torch.tensor([rbm_psi[0][1], rbm_psi[1][1]], device=nn_state.device)\n",
    "        / normalization\n",
    "    )\n",
    "    return beta_\n",
    "\n",
    "def gamma1(nn_state, space, **kwargs):\n",
    "    rbm_psi = nn_state.psi(space)\n",
    "    normalization = nn_state.normalization(space).sqrt_()\n",
    "    gamma_ = cplx.norm(\n",
    "        torch.tensor([rbm_psi[0][2], rbm_psi[1][2]], device=nn_state.device)\n",
    "        / normalization\n",
    "    )\n",
    "    return gamma_\n",
    "\n",
    "def delta1(nn_state, space, **kwargs):\n",
    "    rbm_psi = nn_state.psi(space)\n",
    "    normalization = nn_state.normalization(space).sqrt_()\n",
    "    delta_ = cplx.norm(\n",
    "        torch.tensor([rbm_psi[0][3], rbm_psi[1][3]], device=nn_state.device)\n",
    "        / normalization\n",
    "    )\n",
    "    return delta_\n",
    "\n",
    "def alpha2(nn_state, space, **kwargs):\n",
    "    rbm_psi = nn_state.psi(space)\n",
    "    normalization = nn_state.normalization(space).sqrt_()\n",
    "    alpha_ = cplx.norm(\n",
    "        torch.tensor([rbm_psi[0][4], rbm_psi[1][4]], device=nn_state.device)\n",
    "        / normalization\n",
    "    )\n",
    "    return alpha_\n",
    "\n",
    "def beta2(nn_state, space, **kwargs):\n",
    "    rbm_psi = nn_state.psi(space)\n",
    "    normalization = nn_state.normalization(space).sqrt_()\n",
    "    beta_ = cplx.norm(\n",
    "        torch.tensor([rbm_psi[0][5], rbm_psi[1][5]], device=nn_state.device)\n",
    "        / normalization\n",
    "    )\n",
    "    return beta_\n",
    "\n",
    "def gamma2(nn_state, space, **kwargs):\n",
    "    rbm_psi = nn_state.psi(space)\n",
    "    normalization = nn_state.normalization(space).sqrt_()\n",
    "    gamma_ = cplx.norm(\n",
    "        torch.tensor([rbm_psi[0][6], rbm_psi[1][6]], device=nn_state.device)\n",
    "        / normalization\n",
    "    )\n",
    "    return gamma_\n",
    "\n",
    "def delta2(nn_state, space, **kwargs):\n",
    "    rbm_psi = nn_state.psi(space)\n",
    "    normalization = nn_state.normalization(space).sqrt_()\n",
    "    delta_ = cplx.norm(\n",
    "        torch.tensor([rbm_psi[0][7], rbm_psi[1][7]], device=nn_state.device)\n",
    "        / normalization\n",
    "    )\n",
    "    return delta_\n",
    "\n",
    "def alpha3(nn_state, space, **kwargs):\n",
    "    rbm_psi = nn_state.psi(space)\n",
    "    normalization = nn_state.normalization(space).sqrt_()\n",
    "    alpha_ = cplx.norm(\n",
    "        torch.tensor([rbm_psi[0][8], rbm_psi[1][8]], device=nn_state.device)\n",
    "        / normalization\n",
    "    )\n",
    "    return alpha_\n",
    "\n",
    "def beta3(nn_state, space, **kwargs):\n",
    "    rbm_psi = nn_state.psi(space)\n",
    "    normalization = nn_state.normalization(space).sqrt_()\n",
    "    beta_ = cplx.norm(\n",
    "        torch.tensor([rbm_psi[0][9], rbm_psi[1][9]], device=nn_state.device)\n",
    "        / normalization\n",
    "    )\n",
    "    return beta_\n",
    "\n",
    "def gamma3(nn_state, space, **kwargs):\n",
    "    rbm_psi = nn_state.psi(space)\n",
    "    normalization = nn_state.normalization(space).sqrt_()\n",
    "    gamma_ = cplx.norm(\n",
    "        torch.tensor([rbm_psi[0][10], rbm_psi[1][10]], device=nn_state.device)\n",
    "        / normalization\n",
    "    )\n",
    "    return gamma_\n",
    "\n",
    "def delta3(nn_state, space, **kwargs):\n",
    "    rbm_psi = nn_state.psi(space)\n",
    "    normalization = nn_state.normalization(space).sqrt_()\n",
    "    delta_ = cplx.norm(\n",
    "        torch.tensor([rbm_psi[0][11], rbm_psi[1][11]], device=nn_state.device)\n",
    "        / normalization\n",
    "    )\n",
    "    return delta_\n",
    "\n",
    "def alpha4(nn_state, space, **kwargs):\n",
    "    rbm_psi = nn_state.psi(space)\n",
    "    normalization = nn_state.normalization(space).sqrt_()\n",
    "    alpha_ = cplx.norm(\n",
    "        torch.tensor([rbm_psi[0][12], rbm_psi[1][12]], device=nn_state.device)\n",
    "        / normalization\n",
    "    )\n",
    "    return alpha_\n",
    "\n",
    "def beta4(nn_state, space, **kwargs):\n",
    "    rbm_psi = nn_state.psi(space)\n",
    "    normalization = nn_state.normalization(space).sqrt_()\n",
    "    beta_ = cplx.norm(\n",
    "        torch.tensor([rbm_psi[0][13], rbm_psi[1][13]], device=nn_state.device)\n",
    "        / normalization\n",
    "    )\n",
    "    return beta_\n",
    "\n",
    "def gamma4(nn_state, space, **kwargs):\n",
    "    rbm_psi = nn_state.psi(space)\n",
    "    normalization = nn_state.normalization(space).sqrt_()\n",
    "    gamma_ = cplx.norm(\n",
    "        torch.tensor([rbm_psi[0][14], rbm_psi[1][14]], device=nn_state.device)\n",
    "        / normalization\n",
    "    )\n",
    "    return gamma_\n",
    "\n",
    "def delta4(nn_state, space, **kwargs):\n",
    "    rbm_psi = nn_state.psi(space)\n",
    "    normalization = nn_state.normalization(space).sqrt_()\n",
    "    delta_ = cplx.norm(\n",
    "        torch.tensor([rbm_psi[0][15], rbm_psi[1][15]], device=nn_state.device)\n",
    "        / normalization\n",
    "    )\n",
    "    return delta_"
   ]
  },
  {
   "cell_type": "code",
   "execution_count": null,
   "metadata": {
    "colab": {},
    "colab_type": "code",
    "id": "Crzg7pfbTDV_"
   },
   "outputs": [],
   "source": [
    "period = 25\n",
    "space = nn_state.generate_hilbert_space()\n",
    "\n",
    "callbacks = [\n",
    "    MetricEvaluator(\n",
    "        period,\n",
    "        {\n",
    "            \"Fidelity\": ts.fidelity,\n",
    "            \"KL\": ts.KL,\n",
    "            #\"normα1\": alpha1,\n",
    "            # \"normβ1\": beta1,\n",
    "            # \"normγ1\": gamma1,\n",
    "             \"normδ1\": delta1,\n",
    "            #\"normα2\": alpha2,\n",
    "            # \"normβ2\": beta2,\n",
    "            # \"normγ2\": gamma2,\n",
    "            # \"normδ2\": delta2,\n",
    "            #\"normα3\": alpha3,\n",
    "            # \"normβ3\": beta3,\n",
    "            # \"normγ3\": gamma3,\n",
    "            # \"normδ3\": delta3,\n",
    "            #\"normα4\": alpha4,\n",
    "            # \"normβ4\": beta4,\n",
    "            # \"normγ4\": gamma4,\n",
    "            # \"normδ4\": delta4,\n",
    "        },\n",
    "        target=true_psi,\n",
    "        bases=bases,\n",
    "        verbose=True,\n",
    "        space=space,\n",
    "    )\n",
    "]"
   ]
  },
  {
   "cell_type": "code",
   "execution_count": null,
   "metadata": {
    "colab": {
     "base_uri": "https://localhost:8080/",
     "height": 374
    },
    "colab_type": "code",
    "id": "7Dht_ILzTgZ8",
    "outputId": "c77d164c-5610-4356-c4c7-f96dc4361e45"
   },
   "outputs": [
    {
     "name": "stdout",
     "output_type": "stream",
     "text": [
      "Epoch: 25\tFidelity = 0.988816\tKL = 0.018485\tnormδ1 = 0.049166\n",
      "Epoch: 50\tFidelity = 0.989124\tKL = 0.017387\tnormδ1 = 0.051310\n",
      "Epoch: 75\tFidelity = 0.988866\tKL = 0.018251\tnormδ1 = 0.049598\n",
      "Epoch: 100\tFidelity = 0.989057\tKL = 0.017556\tnormδ1 = 0.050961\n",
      "Epoch: 125\tFidelity = 0.988502\tKL = 0.019496\tnormδ1 = 0.047261\n",
      "Epoch: 150\tFidelity = 0.988563\tKL = 0.019168\tnormδ1 = 0.047829\n",
      "Epoch: 175\tFidelity = 0.988365\tKL = 0.019886\tnormδ1 = 0.046529\n",
      "Epoch: 200\tFidelity = 0.988096\tKL = 0.020849\tnormδ1 = 0.044850\n",
      "Epoch: 225\tFidelity = 0.987915\tKL = 0.021445\tnormδ1 = 0.043841\n",
      "Epoch: 250\tFidelity = 0.987473\tKL = 0.023018\tnormδ1 = 0.041332\n",
      "Epoch: 275\tFidelity = 0.988114\tKL = 0.020473\tnormδ1 = 0.045426\n",
      "Epoch: 300\tFidelity = 0.987972\tKL = 0.020983\tnormδ1 = 0.044578\n",
      "Epoch: 325\tFidelity = 0.987778\tKL = 0.021682\tnormδ1 = 0.043431\n",
      "Epoch: 350\tFidelity = 0.987980\tKL = 0.020872\tnormδ1 = 0.044772\n",
      "Epoch: 375\tFidelity = 0.987748\tKL = 0.021740\tnormδ1 = 0.043340\n",
      "Epoch: 400\tFidelity = 0.987912\tKL = 0.021060\tnormδ1 = 0.044435\n",
      "Epoch: 425\tFidelity = 0.988137\tKL = 0.020248\tnormδ1 = 0.045853\n",
      "Epoch: 450\tFidelity = 0.988619\tKL = 0.018468\tnormδ1 = 0.049124\n",
      "Epoch: 475\tFidelity = 0.988342\tKL = 0.019509\tnormδ1 = 0.047181\n",
      "Epoch: 500\tFidelity = 0.988033\tKL = 0.020626\tnormδ1 = 0.045195\n",
      "Total time elapsed during training: 3362.071 s\n"
     ]
    }
   ],
   "source": [
    "nn_state.fit(\n",
    "    train_samples,\n",
    "    epochs=epochs,\n",
    "    pos_batch_size=pbs,\n",
    "    neg_batch_size=nbs,\n",
    "    lr=lr,\n",
    "    k=k,\n",
    "    input_bases=train_bases,\n",
    "    callbacks=callbacks,\n",
    "    time=True,\n",
    ")"
   ]
  },
  {
   "cell_type": "code",
   "execution_count": null,
   "metadata": {
    "colab": {},
    "colab_type": "code",
    "id": "ZGdXxy1cTnDa"
   },
   "outputs": [],
   "source": [
    "fidelities = callbacks[0].Fidelity\n",
    "KLs = callbacks[0][\"KL\"]\n",
    "coeffs = callbacks[0][\"normδ1\"]\n",
    "epoch = np.arange(period, epochs + 1, period)"
   ]
  },
  {
   "cell_type": "code",
   "execution_count": null,
   "metadata": {
    "colab": {
     "base_uri": "https://localhost:8080/",
     "height": 225
    },
    "colab_type": "code",
    "id": "SE5WdqKlTwEt",
    "outputId": "882d05d3-bb02-4172-d0c4-a437b8665a41"
   },
   "outputs": [
    {
     "data": {
      "image/png": "[encoded data removed]",
      "text/plain": [
       "<Figure size 1008x216 with 3 Axes>"
      ]
     },
     "metadata": {
      "needs_background": "light",
      "tags": []
     },
     "output_type": "display_data"
    }
   ],
   "source": [
    "fig, axs = plt.subplots(nrows=1, ncols=3, figsize=(14, 3))\n",
    "\n",
    "ax = axs[0]\n",
    "ax.plot(epoch, fidelities, color=\"C0\", markeredgecolor=\"black\")\n",
    "ax.set_ylabel(r\"Fidelity\")\n",
    "ax.set_xlabel(r\"Epoch\")\n",
    "ax.set_ylim([0.8,1])\n",
    "\n",
    "ax = axs[1]\n",
    "ax.plot(epoch, KLs, color=\"C1\", markeredgecolor=\"black\")\n",
    "ax.set_ylabel(r\"KL Divergence\")\n",
    "ax.set_xlabel(r\"Epoch\")\n",
    "ax.set_ylim([0,0.2])\n",
    "\n",
    "ax = axs[2]\n",
    "ax.plot(epoch, coeffs, color=\"C2\", markeredgecolor=\"black\")\n",
    "ax.set_ylabel(r\"$\\vert\\delta 1\\vert$\")\n",
    "ax.set_xlabel(r\"Epoch\")\n",
    "#ax.set_ylim([0.01,0.03])\n",
    "\n",
    "plt.tight_layout()\n",
    "plt.show()"
   ]
  },
  {
   "cell_type": "code",
   "execution_count": null,
   "metadata": {
    "colab": {},
    "colab_type": "code",
    "id": "c1W6rQR4qro3"
   },
   "outputs": [],
   "source": []
  }
 ],
 "metadata": {
  "accelerator": "GPU",
  "colab": {
   "collapsed_sections": [],
   "name": "Further Challenge 1.ipynb",
   "provenance": []
  },
  "kernelspec": {
   "display_name": "Python 3",
   "language": "python",
   "name": "python3"
  },
  "language_info": {
   "codemirror_mode": {
    "name": "ipython",
    "version": 3
   },
   "file_extension": ".py",
   "mimetype": "text/x-python",
   "name": "python",
   "nbconvert_exporter": "python",
   "pygments_lexer": "ipython3",
   "version": "3.6.10"
  }
 },
 "nbformat": 4,
 "nbformat_minor": 1
}
