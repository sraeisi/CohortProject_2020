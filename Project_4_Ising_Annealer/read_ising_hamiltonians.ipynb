{
 "cells": [
  {
   "cell_type": "code",
   "execution_count": 90,
   "metadata": {},
   "outputs": [],
   "source": [
    "import numpy as np"
   ]
  },
  {
   "cell_type": "code",
   "execution_count": 91,
   "metadata": {},
   "outputs": [],
   "source": [
    "def read_generalized_ising_hamiltonian(path):\n",
    "    with open(path, \"r\") as f:\n",
    "        f.readline()  # discard first line\n",
    "        compressed_hamiltonian = [\n",
    "            tuple(line.strip().split())\n",
    "            for line in f.readlines()\n",
    "        ]\n",
    "    \n",
    "    num_sites = len(compressed_hamiltonian[0][0])\n",
    "    hamiltonian_terms = [np.zeros((num_sites,)*i) for i in range(num_sites+1)]\n",
    "\n",
    "    for sites, val in compressed_hamiltonian:\n",
    "        num_zs = 0\n",
    "        site_nums = []\n",
    "        for i, x in enumerate(sites):\n",
    "            if x == 'z':\n",
    "                site_nums.append(i)\n",
    "                num_zs += 1\n",
    "\n",
    "        hamiltonian_terms[num_zs][tuple(site_nums)] = float(val)\n",
    "\n",
    "    return hamiltonian_terms"
   ]
  },
  {
   "cell_type": "code",
   "execution_count": 92,
   "metadata": {},
   "outputs": [
    {
     "data": {
      "text/plain": [
       "[array(-0.29573911),\n",
       " array([0.        , 0.13548245, 0.10890463, 0.15091995]),\n",
       " array([[ 0.        ,  0.        ,  0.10890463,  0.0154375 ],\n",
       "        [ 0.        ,  0.        ,  0.        ,  0.15884487],\n",
       "        [ 0.        ,  0.        ,  0.        , -0.15272731],\n",
       "        [ 0.        ,  0.        ,  0.        ,  0.        ]]),\n",
       " array([[[ 0.        ,  0.        ,  0.        ,  0.        ],\n",
       "         [ 0.        ,  0.        , -0.1372898 ,  0.16529303],\n",
       "         [ 0.        ,  0.        ,  0.        , -0.0154375 ],\n",
       "         [ 0.        ,  0.        ,  0.        ,  0.        ]],\n",
       " \n",
       "        [[ 0.        ,  0.        ,  0.        ,  0.        ],\n",
       "         [ 0.        ,  0.        ,  0.        ,  0.        ],\n",
       "         [ 0.        ,  0.        ,  0.        ,  0.15731721],\n",
       "         [ 0.        ,  0.        ,  0.        ,  0.        ]],\n",
       " \n",
       "        [[ 0.        ,  0.        ,  0.        ,  0.        ],\n",
       "         [ 0.        ,  0.        ,  0.        ,  0.        ],\n",
       "         [ 0.        ,  0.        ,  0.        ,  0.        ],\n",
       "         [ 0.        ,  0.        ,  0.        ,  0.        ]],\n",
       " \n",
       "        [[ 0.        ,  0.        ,  0.        ,  0.        ],\n",
       "         [ 0.        ,  0.        ,  0.        ,  0.        ],\n",
       "         [ 0.        ,  0.        ,  0.        ,  0.        ],\n",
       "         [ 0.        ,  0.        ,  0.        ,  0.        ]]]),\n",
       " array([[[[0.        , 0.        , 0.        , 0.        ],\n",
       "          [0.        , 0.        , 0.        , 0.        ],\n",
       "          [0.        , 0.        , 0.        , 0.        ],\n",
       "          [0.        , 0.        , 0.        , 0.        ]],\n",
       " \n",
       "         [[0.        , 0.        , 0.        , 0.        ],\n",
       "          [0.        , 0.        , 0.        , 0.        ],\n",
       "          [0.        , 0.        , 0.        , 0.15731721],\n",
       "          [0.        , 0.        , 0.        , 0.        ]],\n",
       " \n",
       "         [[0.        , 0.        , 0.        , 0.        ],\n",
       "          [0.        , 0.        , 0.        , 0.        ],\n",
       "          [0.        , 0.        , 0.        , 0.        ],\n",
       "          [0.        , 0.        , 0.        , 0.        ]],\n",
       " \n",
       "         [[0.        , 0.        , 0.        , 0.        ],\n",
       "          [0.        , 0.        , 0.        , 0.        ],\n",
       "          [0.        , 0.        , 0.        , 0.        ],\n",
       "          [0.        , 0.        , 0.        , 0.        ]]],\n",
       " \n",
       " \n",
       "        [[[0.        , 0.        , 0.        , 0.        ],\n",
       "          [0.        , 0.        , 0.        , 0.        ],\n",
       "          [0.        , 0.        , 0.        , 0.        ],\n",
       "          [0.        , 0.        , 0.        , 0.        ]],\n",
       " \n",
       "         [[0.        , 0.        , 0.        , 0.        ],\n",
       "          [0.        , 0.        , 0.        , 0.        ],\n",
       "          [0.        , 0.        , 0.        , 0.        ],\n",
       "          [0.        , 0.        , 0.        , 0.        ]],\n",
       " \n",
       "         [[0.        , 0.        , 0.        , 0.        ],\n",
       "          [0.        , 0.        , 0.        , 0.        ],\n",
       "          [0.        , 0.        , 0.        , 0.        ],\n",
       "          [0.        , 0.        , 0.        , 0.        ]],\n",
       " \n",
       "         [[0.        , 0.        , 0.        , 0.        ],\n",
       "          [0.        , 0.        , 0.        , 0.        ],\n",
       "          [0.        , 0.        , 0.        , 0.        ],\n",
       "          [0.        , 0.        , 0.        , 0.        ]]],\n",
       " \n",
       " \n",
       "        [[[0.        , 0.        , 0.        , 0.        ],\n",
       "          [0.        , 0.        , 0.        , 0.        ],\n",
       "          [0.        , 0.        , 0.        , 0.        ],\n",
       "          [0.        , 0.        , 0.        , 0.        ]],\n",
       " \n",
       "         [[0.        , 0.        , 0.        , 0.        ],\n",
       "          [0.        , 0.        , 0.        , 0.        ],\n",
       "          [0.        , 0.        , 0.        , 0.        ],\n",
       "          [0.        , 0.        , 0.        , 0.        ]],\n",
       " \n",
       "         [[0.        , 0.        , 0.        , 0.        ],\n",
       "          [0.        , 0.        , 0.        , 0.        ],\n",
       "          [0.        , 0.        , 0.        , 0.        ],\n",
       "          [0.        , 0.        , 0.        , 0.        ]],\n",
       " \n",
       "         [[0.        , 0.        , 0.        , 0.        ],\n",
       "          [0.        , 0.        , 0.        , 0.        ],\n",
       "          [0.        , 0.        , 0.        , 0.        ],\n",
       "          [0.        , 0.        , 0.        , 0.        ]]],\n",
       " \n",
       " \n",
       "        [[[0.        , 0.        , 0.        , 0.        ],\n",
       "          [0.        , 0.        , 0.        , 0.        ],\n",
       "          [0.        , 0.        , 0.        , 0.        ],\n",
       "          [0.        , 0.        , 0.        , 0.        ]],\n",
       " \n",
       "         [[0.        , 0.        , 0.        , 0.        ],\n",
       "          [0.        , 0.        , 0.        , 0.        ],\n",
       "          [0.        , 0.        , 0.        , 0.        ],\n",
       "          [0.        , 0.        , 0.        , 0.        ]],\n",
       " \n",
       "         [[0.        , 0.        , 0.        , 0.        ],\n",
       "          [0.        , 0.        , 0.        , 0.        ],\n",
       "          [0.        , 0.        , 0.        , 0.        ],\n",
       "          [0.        , 0.        , 0.        , 0.        ]],\n",
       " \n",
       "         [[0.        , 0.        , 0.        , 0.        ],\n",
       "          [0.        , 0.        , 0.        , 0.        ],\n",
       "          [0.        , 0.        , 0.        , 0.        ],\n",
       "          [0.        , 0.        , 0.        , 0.        ]]]])]"
      ]
     },
     "execution_count": 92,
     "metadata": {},
     "output_type": "execute_result"
    }
   ],
   "source": [
    "read_generalized_ising_hamiltonian(\"./hamiltonians/Ising-H2-STO-3G-bk-samespin-R=0.95.inp\")"
   ]
  },
  {
   "cell_type": "code",
   "execution_count": 41,
   "metadata": {},
   "outputs": [],
   "source": [
    "hamiltonian_terms = [np.zeros((num_sites,)*i) for i in range(num_sites+1)]"
   ]
  },
  {
   "cell_type": "code",
   "execution_count": 43,
   "metadata": {},
   "outputs": [
    {
     "data": {
      "text/plain": [
       "[(), (4,), (4, 4), (4, 4, 4), (4, 4, 4, 4)]"
      ]
     },
     "execution_count": 43,
     "metadata": {},
     "output_type": "execute_result"
    }
   ],
   "source": [
    "[x.shape for x in hamiltonian_terms]"
   ]
  },
  {
   "cell_type": "code",
   "execution_count": 82,
   "metadata": {},
   "outputs": [],
   "source": []
  },
  {
   "cell_type": "code",
   "execution_count": 89,
   "metadata": {},
   "outputs": [
    {
     "data": {
      "text/plain": [
       "0.03775117547636375"
      ]
     },
     "execution_count": 89,
     "metadata": {},
     "output_type": "execute_result"
    }
   ],
   "source": [
    "hamiltonian_terms[0]"
   ]
  },
  {
   "cell_type": "code",
   "execution_count": 38,
   "metadata": {},
   "outputs": [
    {
     "data": {
      "text/plain": [
       "array([0., 0., 0., 0.])"
      ]
     },
     "execution_count": 38,
     "metadata": {},
     "output_type": "execute_result"
    }
   ],
   "source": [
    "np.zeros((4,))"
   ]
  },
  {
   "cell_type": "code",
   "execution_count": 45,
   "metadata": {},
   "outputs": [
    {
     "data": {
      "text/plain": [
       "(1, 2)"
      ]
     },
     "execution_count": 45,
     "metadata": {},
     "output_type": "execute_result"
    }
   ],
   "source": [
    "(1,) + (2,)"
   ]
  },
  {
   "cell_type": "code",
   "execution_count": null,
   "metadata": {},
   "outputs": [],
   "source": []
  }
 ],
 "metadata": {
  "kernelspec": {
   "display_name": "Python 3",
   "language": "python",
   "name": "python3"
  },
  "language_info": {
   "codemirror_mode": {
    "name": "ipython",
    "version": 3
   },
   "file_extension": ".py",
   "mimetype": "text/x-python",
   "name": "python",
   "nbconvert_exporter": "python",
   "pygments_lexer": "ipython3",
   "version": "3.8.0"
  }
 },
 "nbformat": 4,
 "nbformat_minor": 4
}
