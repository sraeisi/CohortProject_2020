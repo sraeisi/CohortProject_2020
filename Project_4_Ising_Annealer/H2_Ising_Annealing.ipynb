{
 "cells": [
  {
   "cell_type": "markdown",
   "metadata": {},
   "source": [
    "# Electronic structure through (quantum) annealing\n",
    "\n",
    "In this project we map the electronic structure Hamiltonian to an Ising Hamiltonian and find the ground state energy.  Refer to the following references:\n",
    "\n",
    "[1] https://arxiv.org/abs/1706.00271\n",
    "\n",
    "[2] https://arxiv.org/abs/1811.05256\n",
    "\n",
    "[3] https://arxiv.org/abs/1208.5986\n",
    "\n",
    "We use molecular Hydrogen $H_2$ as an example. Assuming the atomic nucleus does not move due to its larger mass, the Hamiltonian which governs the electronic state can be transformed to a qubit representation appropriate for simulation on a quantum computer [3].  See Ref. [2], Eq. (6) for the $n$ qubit Hamiltonian, which encodes the electronic structure problem. Following Ref. [1], we then encode this problem in a classical Ising model, appropriate for annealing. This requires $r$ ancillary bit for each $n$ qubit.\n",
    "\n",
    "The qubit Hamiltonian for moledular hydrogen $H_2$ is given by Eq. (37) in Ref. [1].  After the mapping described above, the problem eventually maps to the 2-local Ising-type Hamiltonian Eq. (41).  This goal becomes the calculation of the ground state energy of this Hamiltonian.\n",
    "\n"
   ]
  },
  {
   "cell_type": "code",
   "execution_count": 71,
   "metadata": {},
   "outputs": [],
   "source": [
    "import numpy as np\n",
    "from scipy.sparse import coo_matrix, csr_matrix\n",
    "from scipy.special import logsumexp\n",
    "import pickle\n",
    "\n",
    "import pandas as pd"
   ]
  },
  {
   "cell_type": "code",
   "execution_count": 147,
   "metadata": {},
   "outputs": [],
   "source": [
    "def energy(spins, J, h):\n",
    "    # J - 2D np.array (assumed upper triangular)\n",
    "    # h - 1D np.array\n",
    "    # spins - 1D np.array (entries +/- 1)\n",
    "    interaction = spins.dot(J.dot(spins))\n",
    "    field = spins.dot(h)\n",
    "    return interaction + field\n",
    "\n",
    "def energy_diff(i, spins, J, h):\n",
    "    return -4 * J[i, :].dot(spins) * spins[..., i] - 2 * h[i] * spins[..., i]"
   ]
  },
  {
   "cell_type": "code",
   "execution_count": 91,
   "metadata": {},
   "outputs": [],
   "source": [
    "num_spins = 10\n"
   ]
  },
  {
   "cell_type": "code",
   "execution_count": 82,
   "metadata": {},
   "outputs": [],
   "source": [
    "# random interaction+field ising model\n",
    "J = np.random.randn(num_spins, num_spins)\n",
    "J = np.triu(J, k=1)\n",
    "\n",
    "h = np.random.randn(num_spins)\n",
    "spins = (2*np.random.randint(2, size=(num_spins,)) - 1)"
   ]
  },
  {
   "cell_type": "code",
   "execution_count": 77,
   "metadata": {},
   "outputs": [],
   "source": [
    "# standard classical ising with no field\n",
    "J = np.zeros((num_spins, num_spins))\n",
    "for i in range(J.shape[0]):\n",
    "    J[i, (i+1) % num_spins] = -1\n",
    "\n",
    "h = np.zeros(num_spins)\n",
    "spins = (2*np.random.randint(2, size=(num_spins,)) - 1)"
   ]
  },
  {
   "cell_type": "code",
   "execution_count": 156,
   "metadata": {},
   "outputs": [],
   "source": [
    "with open(\"./2localHamiltonians/OTIsHam5-2K.pkl\", \"rb\") as f:\n",
    "    h_, J_ = pickle.load(f, encoding=\"bytes\")\n",
    "    \n",
    "num_spins = max(h_.keys()) + 1\n",
    "\n",
    "h = np.zeros(num_spins)\n",
    "\n",
    "for k, v in h_.items():\n",
    "    h[k] = v\n",
    "\n",
    "J = np.zeros((num_spins, num_spins))\n",
    "\n",
    "for k, v in J_.items():\n",
    "    J[k] = v\n",
    "    \n",
    "J = csr_matrix(J)\n",
    "\n",
    "spins = (2*np.random.randint(2, size=(num_spins,)) - 1)"
   ]
  },
  {
   "cell_type": "code",
   "execution_count": 157,
   "metadata": {},
   "outputs": [
    {
     "data": {
      "text/plain": [
       "(126,)"
      ]
     },
     "execution_count": 157,
     "metadata": {},
     "output_type": "execute_result"
    }
   ],
   "source": [
    "spins.shape"
   ]
  },
  {
   "cell_type": "code",
   "execution_count": 158,
   "metadata": {},
   "outputs": [],
   "source": [
    "def mc_step(spins, J, h, T):\n",
    "    current_energy = energy(spins, J, h)\n",
    "    for _ in range(spins.shape[0]):\n",
    "        i = np.random.randint(spins.shape[0])        \n",
    "        dE = energy_diff(i, spins, J, h)\n",
    "        \n",
    "        if (dE < 0) or (np.random.rand() < np.exp(-dE / T)):\n",
    "            current_energy += dE\n",
    "            spins[i] *= -1\n",
    "        \n",
    "    return spins, current_energy"
   ]
  },
  {
   "cell_type": "code",
   "execution_count": 159,
   "metadata": {},
   "outputs": [
    {
     "name": "stdout",
     "output_type": "stream",
     "text": [
      "3.682475046136629\n"
     ]
    }
   ],
   "source": [
    "T0 = T = 10.0\n",
    "burn_in = 100\n",
    "num_samples = 10000\n",
    "\n",
    "for t in range(burn_in):\n",
    "    mc_step(spins, J, h, T)\n",
    "    \n",
    "\n",
    "annealing_time = 10*burn_in\n",
    "for t in range(annealing_time):\n",
    "    T = T0 * np.exp(-t / annealing_time)\n",
    "    mc_step(spins, J, h, T)\n",
    "    \n",
    "print(T)"
   ]
  },
  {
   "cell_type": "code",
   "execution_count": 160,
   "metadata": {},
   "outputs": [
    {
     "name": "stdout",
     "output_type": "stream",
     "text": [
      "3.682475046136629\n"
     ]
    },
    {
     "data": {
      "text/plain": [
       "((-116.96191433324269, 0.2941832156860005),\n",
       " (0.09612857142857142, 0.0005990870855767233))"
      ]
     },
     "execution_count": 160,
     "metadata": {},
     "output_type": "execute_result"
    }
   ],
   "source": [
    "print(T)\n",
    "    \n",
    "E = np.zeros(num_samples)\n",
    "M = np.zeros(num_samples)\n",
    "\n",
    "for t in range(num_samples):\n",
    "    _, e = mc_step(spins, J, h, T)\n",
    "    E[t] = e\n",
    "    M[t] = np.abs(np.mean(spins))\n",
    "    \n",
    "(np.mean(E), np.std(E)/np.sqrt(num_samples)), (np.mean(M), np.std(M)/np.sqrt(num_samples))"
   ]
  },
  {
   "cell_type": "code",
   "execution_count": 139,
   "metadata": {},
   "outputs": [],
   "source": [
    "size = num_spins\n",
    "dim = np.arange(2 ** size)\n",
    "space = ((dim[:, None] & (1 << np.arange(size))) > 0)[:, ::-1]\n",
    "space = 2*space.astype(int) - 1"
   ]
  },
  {
   "cell_type": "code",
   "execution_count": 140,
   "metadata": {},
   "outputs": [
    {
     "data": {
      "text/plain": [
       "(-19.568758476047414, 0.1397789599433208)"
      ]
     },
     "execution_count": 140,
     "metadata": {},
     "output_type": "execute_result"
    }
   ],
   "source": [
    "E = energy(space, J, h)\n",
    "M = np.abs(np.mean(space, axis=-1))\n",
    "\n",
    "logZ = logsumexp(-E / T)\n",
    "probs = np.exp(-E / T - logZ)\n",
    "\n",
    "np.dot(E, probs), np.dot(M, probs)"
   ]
  },
  {
   "cell_type": "code",
   "execution_count": 132,
   "metadata": {},
   "outputs": [
    {
     "data": {
      "text/plain": [
       "-19.750499361199676"
      ]
     },
     "execution_count": 132,
     "metadata": {},
     "output_type": "execute_result"
    }
   ],
   "source": [
    "min(E)"
   ]
  },
  {
   "cell_type": "code",
   "execution_count": 99,
   "metadata": {},
   "outputs": [
    {
     "data": {
      "text/plain": [
       "4.317124741065786e-05"
      ]
     },
     "execution_count": 99,
     "metadata": {},
     "output_type": "execute_result"
    }
   ],
   "source": [
    "0.99**1000"
   ]
  },
  {
   "cell_type": "markdown",
   "metadata": {},
   "source": [
    "Task 1.\n",
    "\n",
    "1D Ising (2-local)\n",
    "1D Ising (4-local)\n",
    "\n",
    "Task 2.\n",
    "\n",
    "Intro to spin glasses\n",
    "\n",
    "1D Mattis Ising (2-local)\n",
    "1D Mattis Ising (4-local)\n",
    "\n",
    "Task 3. \n",
    "\n",
    "1D Random Bond Ising? (2/4-local)\n",
    "\n",
    "Random Bond meaning J_ij still (next) nearest neighbour, but randomly positive or negative\n",
    "\n",
    "Task 4.\n",
    "\n",
    "H2 Annealing \n",
    "\n",
    "Might merge Tasks 1 and 2 together."
   ]
  }
 ],
 "metadata": {
  "kernelspec": {
   "display_name": "Python 3",
   "language": "python",
   "name": "python3"
  },
  "language_info": {
   "codemirror_mode": {
    "name": "ipython",
    "version": 3
   },
   "file_extension": ".py",
   "mimetype": "text/x-python",
   "name": "python",
   "nbconvert_exporter": "python",
   "pygments_lexer": "ipython3",
   "version": "3.8.0"
  }
 },
 "nbformat": 4,
 "nbformat_minor": 2
}
